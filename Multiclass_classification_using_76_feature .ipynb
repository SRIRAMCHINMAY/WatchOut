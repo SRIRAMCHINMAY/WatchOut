{
 "cells": [
  {
   "cell_type": "markdown",
   "metadata": {},
   "source": [
    "<h2>Importing modules required for running the code</h2>"
   ]
  },
  {
   "cell_type": "code",
   "execution_count": 1,
   "metadata": {},
   "outputs": [
    {
     "name": "stderr",
     "output_type": "stream",
     "text": [
      "2025-10-28 13:37:28.315509: I tensorflow/core/util/port.cc:153] oneDNN custom operations are on. You may see slightly different numerical results due to floating-point round-off errors from different computation orders. To turn them off, set the environment variable `TF_ENABLE_ONEDNN_OPTS=0`.\n",
      "2025-10-28 13:37:28.333536: I external/local_xla/xla/tsl/cuda/cudart_stub.cc:32] Could not find cuda drivers on your machine, GPU will not be used.\n",
      "2025-10-28 13:37:28.411475: I external/local_xla/xla/tsl/cuda/cudart_stub.cc:32] Could not find cuda drivers on your machine, GPU will not be used.\n",
      "2025-10-28 13:37:28.474090: E external/local_xla/xla/stream_executor/cuda/cuda_fft.cc:467] Unable to register cuFFT factory: Attempting to register factory for plugin cuFFT when one has already been registered\n",
      "WARNING: All log messages before absl::InitializeLog() is called are written to STDERR\n",
      "E0000 00:00:1761638848.535169    2521 cuda_dnn.cc:8579] Unable to register cuDNN factory: Attempting to register factory for plugin cuDNN when one has already been registered\n",
      "E0000 00:00:1761638848.551274    2521 cuda_blas.cc:1407] Unable to register cuBLAS factory: Attempting to register factory for plugin cuBLAS when one has already been registered\n",
      "W0000 00:00:1761638848.674999    2521 computation_placer.cc:177] computation placer already registered. Please check linkage and avoid linking the same target more than once.\n",
      "W0000 00:00:1761638848.675028    2521 computation_placer.cc:177] computation placer already registered. Please check linkage and avoid linking the same target more than once.\n",
      "W0000 00:00:1761638848.675029    2521 computation_placer.cc:177] computation placer already registered. Please check linkage and avoid linking the same target more than once.\n",
      "W0000 00:00:1761638848.675030    2521 computation_placer.cc:177] computation placer already registered. Please check linkage and avoid linking the same target more than once.\n",
      "2025-10-28 13:37:28.688955: I tensorflow/core/platform/cpu_feature_guard.cc:210] This TensorFlow binary is optimized to use available CPU instructions in performance-critical operations.\n",
      "To enable the following instructions: AVX2 AVX512F AVX512_VNNI FMA, in other operations, rebuild TensorFlow with the appropriate compiler flags.\n"
     ]
    }
   ],
   "source": [
    "import pandas as pd\n",
    "import numpy\n",
    "from sklearn.preprocessing import LabelEncoder, LabelBinarizer, StandardScaler\n",
    "from tensorflow.keras.utils import to_categorical\n",
    "\n",
    "from sklearn.metrics import accuracy_score, classification_report\n",
    "from keras.optimizers import Adam\n",
    "from keras.models import Sequential\n",
    "from keras.layers import Dense, LSTM, Activation, Dropout,Flatten\n",
    "from keras.layers import BatchNormalization\n"
   ]
  },
  {
   "cell_type": "markdown",
   "metadata": {},
   "source": [
    "<h2>Columns Name for our testing and training data </h2>"
   ]
  },
  {
   "cell_type": "code",
   "execution_count": 2,
   "metadata": {},
   "outputs": [],
   "source": [
    "features = ['frame.interface_id',\n",
    " 'frame.dlt',\n",
    " 'frame.offset_shift',\n",
    " 'frame.time_epoch',\n",
    " 'frame.time_delta',\n",
    " 'frame.time_delta_displayed',\n",
    " 'frame.time_relative',\n",
    " 'frame.len',\n",
    " 'frame.cap_len',\n",
    " 'frame.marked',\n",
    " 'frame.ignored',\n",
    " 'radiotap.version',\n",
    " 'radiotap.pad',\n",
    " 'radiotap.length',\n",
    " 'radiotap.present.tsft',\n",
    " 'radiotap.present.flags',\n",
    " 'radiotap.present.rate',\n",
    " 'radiotap.present.channel',\n",
    " 'radiotap.present.fhss',\n",
    " 'radiotap.present.dbm_antsignal',\n",
    " 'radiotap.present.dbm_antnoise',\n",
    " 'radiotap.present.lock_quality',\n",
    " 'radiotap.present.tx_attenuation',\n",
    " 'radiotap.present.db_tx_attenuation',\n",
    " 'radiotap.present.dbm_tx_power',\n",
    " 'radiotap.present.antenna',\n",
    " 'radiotap.present.db_antsignal',\n",
    " 'radiotap.present.db_antnoise',\n",
    " 'radiotap.present.rxflags',\n",
    " 'radiotap.present.xchannel',\n",
    " 'radiotap.present.mcs',\n",
    " 'radiotap.present.ampdu',\n",
    " 'radiotap.present.vht',\n",
    " 'radiotap.present.reserved',\n",
    " 'radiotap.present.rtap_ns',\n",
    " 'radiotap.present.vendor_ns',\n",
    " 'radiotap.present.ext',\n",
    " 'radiotap.mactime',\n",
    " 'radiotap.flags.cfp',\n",
    " 'radiotap.flags.preamble',\n",
    " 'radiotap.flags.wep',\n",
    " 'radiotap.flags.frag',\n",
    " 'radiotap.flags.fcs',\n",
    " 'radiotap.flags.datapad',\n",
    " 'radiotap.flags.badfcs',\n",
    " 'radiotap.flags.shortgi',\n",
    " 'radiotap.datarate',\n",
    " 'radiotap.channel.freq',\n",
    " 'radiotap.channel.type.turbo',\n",
    " 'radiotap.channel.type.cck',\n",
    " 'radiotap.channel.type.ofdm',\n",
    " 'radiotap.channel.type.2ghz',\n",
    " 'radiotap.channel.type.5ghz',\n",
    " 'radiotap.channel.type.passive',\n",
    " 'radiotap.channel.type.dynamic',\n",
    " 'radiotap.channel.type.gfsk',\n",
    " 'radiotap.channel.type.gsm',\n",
    " 'radiotap.channel.type.sturbo',\n",
    " 'radiotap.channel.type.half',\n",
    " 'radiotap.channel.type.quarter',\n",
    " 'radiotap.dbm_antsignal',\n",
    " 'radiotap.antenna',\n",
    " 'radiotap.rxflags.badplcp',\n",
    " 'wlan.fc.type_subtype',\n",
    " 'wlan.fc.version',\n",
    " 'wlan.fc.type',\n",
    " 'wlan.fc.subtype',\n",
    " 'wlan.fc.ds',\n",
    " 'wlan.fc.frag',\n",
    " 'wlan.fc.retry',\n",
    " 'wlan.fc.pwrmgt',\n",
    " 'wlan.fc.moredata',\n",
    " 'wlan.fc.protected',\n",
    " 'wlan.fc.order',\n",
    " 'wlan.duration',\n",
    " 'wlan.ra',\n",
    " 'wlan.da',\n",
    " 'wlan.ta',\n",
    " 'wlan.sa',\n",
    " 'wlan.bssid',\n",
    " 'wlan.frag',\n",
    " 'wlan.seq',\n",
    " 'wlan.bar.type',\n",
    " 'wlan.ba.control.ackpolicy',\n",
    " 'wlan.ba.control.multitid',\n",
    " 'wlan.ba.control.cbitmap',\n",
    " 'wlan.bar.compressed.tidinfo',\n",
    " 'wlan.ba.bm',\n",
    " 'wlan.fcs_good',\n",
    " 'wlan_mgt.fixed.capabilities.ess',\n",
    " 'wlan_mgt.fixed.capabilities.ibss',\n",
    " 'wlan_mgt.fixed.capabilities.cfpoll.ap',\n",
    " 'wlan_mgt.fixed.capabilities.privacy',\n",
    " 'wlan_mgt.fixed.capabilities.preamble',\n",
    " 'wlan_mgt.fixed.capabilities.pbcc',\n",
    " 'wlan_mgt.fixed.capabilities.agility',\n",
    " 'wlan_mgt.fixed.capabilities.spec_man',\n",
    " 'wlan_mgt.fixed.capabilities.short_slot_time',\n",
    " 'wlan_mgt.fixed.capabilities.apsd',\n",
    " 'wlan_mgt.fixed.capabilities.radio_measurement',\n",
    " 'wlan_mgt.fixed.capabilities.dsss_ofdm',\n",
    " 'wlan_mgt.fixed.capabilities.del_blk_ack',\n",
    " 'wlan_mgt.fixed.capabilities.imm_blk_ack',\n",
    " 'wlan_mgt.fixed.listen_ival',\n",
    " 'wlan_mgt.fixed.current_ap',\n",
    " 'wlan_mgt.fixed.status_code',\n",
    " 'wlan_mgt.fixed.timestamp',\n",
    " 'wlan_mgt.fixed.beacon',\n",
    " 'wlan_mgt.fixed.aid',\n",
    " 'wlan_mgt.fixed.reason_code',\n",
    " 'wlan_mgt.fixed.auth.alg',\n",
    " 'wlan_mgt.fixed.auth_seq',\n",
    " 'wlan_mgt.fixed.category_code',\n",
    " 'wlan_mgt.fixed.htact',\n",
    " 'wlan_mgt.fixed.chanwidth',\n",
    " 'wlan_mgt.fixed.fragment',\n",
    " 'wlan_mgt.fixed.sequence',\n",
    " 'wlan_mgt.tagged.all',\n",
    " 'wlan_mgt.ssid',\n",
    " 'wlan_mgt.ds.current_channel',\n",
    " 'wlan_mgt.tim.dtim_count',\n",
    " 'wlan_mgt.tim.dtim_period',\n",
    " 'wlan_mgt.tim.bmapctl.multicast',\n",
    " 'wlan_mgt.tim.bmapctl.offset',\n",
    " 'wlan_mgt.country_info.environment',\n",
    " 'wlan_mgt.rsn.version',\n",
    " 'wlan_mgt.rsn.gcs.type',\n",
    " 'wlan_mgt.rsn.pcs.count',\n",
    " 'wlan_mgt.rsn.akms.count',\n",
    " 'wlan_mgt.rsn.akms.type',\n",
    " 'wlan_mgt.rsn.capabilities.preauth',\n",
    " 'wlan_mgt.rsn.capabilities.no_pairwise',\n",
    " 'wlan_mgt.rsn.capabilities.ptksa_replay_counter',\n",
    " 'wlan_mgt.rsn.capabilities.gtksa_replay_counter',\n",
    " 'wlan_mgt.rsn.capabilities.mfpr',\n",
    " 'wlan_mgt.rsn.capabilities.mfpc',\n",
    " 'wlan_mgt.rsn.capabilities.peerkey',\n",
    " 'wlan_mgt.tcprep.trsmt_pow',\n",
    " 'wlan_mgt.tcprep.link_mrg',\n",
    " 'wlan.wep.iv',\n",
    " 'wlan.wep.key',\n",
    " 'wlan.wep.icv',\n",
    " 'wlan.tkip.extiv',\n",
    " 'wlan.ccmp.extiv',\n",
    " 'wlan.qos.tid',\n",
    " 'wlan.qos.priority',\n",
    " 'wlan.qos.eosp',\n",
    " 'wlan.qos.ack',\n",
    " 'wlan.qos.amsdupresent',\n",
    " 'wlan.qos.buf_state_indicated1',\n",
    " 'wlan.qos.bit4',\n",
    " 'wlan.qos.txop_dur_req',\n",
    " 'wlan.qos.buf_state_indicated2',\n",
    " 'data.len',\n",
    " 'class']"
   ]
  },
  {
   "cell_type": "markdown",
   "metadata": {},
   "source": [
    "<h2> Training Dataset </h2>"
   ]
  },
  {
   "cell_type": "code",
   "execution_count": 3,
   "metadata": {},
   "outputs": [
    {
     "name": "stderr",
     "output_type": "stream",
     "text": [
      "/tmp/ipykernel_2521/272305998.py:1: DtypeWarning: Columns (37,38,39,40,41,42,43,44,45,47,48,49,50,51,52,53,54,55,56,57,58,59,60,61,62,74,88) have mixed types. Specify dtype option on import or set low_memory=False.\n",
      "  awid = pd.read_csv(\"AWID-CLS-R-Trn/1\", header=None, names=features)\n"
     ]
    }
   ],
   "source": [
    "awid = pd.read_csv(\"AWID-CLS-R-Trn/1\", header=None, names=features)"
   ]
  },
  {
   "cell_type": "markdown",
   "metadata": {},
   "source": [
    "<h2> Data Exploration</h2>"
   ]
  },
  {
   "cell_type": "code",
   "execution_count": 4,
   "metadata": {},
   "outputs": [
    {
     "data": {
      "text/html": [
       "<div>\n",
       "<style scoped>\n",
       "    .dataframe tbody tr th:only-of-type {\n",
       "        vertical-align: middle;\n",
       "    }\n",
       "\n",
       "    .dataframe tbody tr th {\n",
       "        vertical-align: top;\n",
       "    }\n",
       "\n",
       "    .dataframe thead th {\n",
       "        text-align: right;\n",
       "    }\n",
       "</style>\n",
       "<table border=\"1\" class=\"dataframe\">\n",
       "  <thead>\n",
       "    <tr style=\"text-align: right;\">\n",
       "      <th></th>\n",
       "      <th>frame.interface_id</th>\n",
       "      <th>frame.dlt</th>\n",
       "      <th>frame.offset_shift</th>\n",
       "      <th>frame.time_epoch</th>\n",
       "      <th>frame.time_delta</th>\n",
       "      <th>frame.time_delta_displayed</th>\n",
       "      <th>frame.time_relative</th>\n",
       "      <th>frame.len</th>\n",
       "      <th>frame.cap_len</th>\n",
       "      <th>frame.marked</th>\n",
       "      <th>...</th>\n",
       "      <th>wlan.qos.priority</th>\n",
       "      <th>wlan.qos.eosp</th>\n",
       "      <th>wlan.qos.ack</th>\n",
       "      <th>wlan.qos.amsdupresent</th>\n",
       "      <th>wlan.qos.buf_state_indicated1</th>\n",
       "      <th>wlan.qos.bit4</th>\n",
       "      <th>wlan.qos.txop_dur_req</th>\n",
       "      <th>wlan.qos.buf_state_indicated2</th>\n",
       "      <th>data.len</th>\n",
       "      <th>class</th>\n",
       "    </tr>\n",
       "  </thead>\n",
       "  <tbody>\n",
       "    <tr>\n",
       "      <th>0</th>\n",
       "      <td>0</td>\n",
       "      <td>?</td>\n",
       "      <td>0.0</td>\n",
       "      <td>1.393661e+09</td>\n",
       "      <td>0.000000</td>\n",
       "      <td>0.000000</td>\n",
       "      <td>0.000000</td>\n",
       "      <td>261</td>\n",
       "      <td>261</td>\n",
       "      <td>0</td>\n",
       "      <td>...</td>\n",
       "      <td>?</td>\n",
       "      <td>?</td>\n",
       "      <td>?</td>\n",
       "      <td>?</td>\n",
       "      <td>?</td>\n",
       "      <td>?</td>\n",
       "      <td>?</td>\n",
       "      <td>?</td>\n",
       "      <td>?</td>\n",
       "      <td>normal</td>\n",
       "    </tr>\n",
       "    <tr>\n",
       "      <th>1</th>\n",
       "      <td>0</td>\n",
       "      <td>?</td>\n",
       "      <td>0.0</td>\n",
       "      <td>1.393661e+09</td>\n",
       "      <td>0.024271</td>\n",
       "      <td>0.024271</td>\n",
       "      <td>0.024271</td>\n",
       "      <td>185</td>\n",
       "      <td>185</td>\n",
       "      <td>0</td>\n",
       "      <td>...</td>\n",
       "      <td>?</td>\n",
       "      <td>?</td>\n",
       "      <td>?</td>\n",
       "      <td>?</td>\n",
       "      <td>?</td>\n",
       "      <td>?</td>\n",
       "      <td>?</td>\n",
       "      <td>?</td>\n",
       "      <td>?</td>\n",
       "      <td>normal</td>\n",
       "    </tr>\n",
       "    <tr>\n",
       "      <th>2</th>\n",
       "      <td>0</td>\n",
       "      <td>?</td>\n",
       "      <td>0.0</td>\n",
       "      <td>1.393661e+09</td>\n",
       "      <td>0.001631</td>\n",
       "      <td>0.001631</td>\n",
       "      <td>0.025902</td>\n",
       "      <td>185</td>\n",
       "      <td>185</td>\n",
       "      <td>0</td>\n",
       "      <td>...</td>\n",
       "      <td>?</td>\n",
       "      <td>?</td>\n",
       "      <td>?</td>\n",
       "      <td>?</td>\n",
       "      <td>?</td>\n",
       "      <td>?</td>\n",
       "      <td>?</td>\n",
       "      <td>?</td>\n",
       "      <td>?</td>\n",
       "      <td>normal</td>\n",
       "    </tr>\n",
       "    <tr>\n",
       "      <th>3</th>\n",
       "      <td>0</td>\n",
       "      <td>?</td>\n",
       "      <td>0.0</td>\n",
       "      <td>1.393661e+09</td>\n",
       "      <td>0.055325</td>\n",
       "      <td>0.055325</td>\n",
       "      <td>0.081227</td>\n",
       "      <td>159</td>\n",
       "      <td>159</td>\n",
       "      <td>0</td>\n",
       "      <td>...</td>\n",
       "      <td>?</td>\n",
       "      <td>?</td>\n",
       "      <td>?</td>\n",
       "      <td>?</td>\n",
       "      <td>?</td>\n",
       "      <td>?</td>\n",
       "      <td>?</td>\n",
       "      <td>?</td>\n",
       "      <td>?</td>\n",
       "      <td>normal</td>\n",
       "    </tr>\n",
       "    <tr>\n",
       "      <th>4</th>\n",
       "      <td>0</td>\n",
       "      <td>?</td>\n",
       "      <td>0.0</td>\n",
       "      <td>1.393661e+09</td>\n",
       "      <td>0.000415</td>\n",
       "      <td>0.000415</td>\n",
       "      <td>0.081642</td>\n",
       "      <td>54</td>\n",
       "      <td>54</td>\n",
       "      <td>0</td>\n",
       "      <td>...</td>\n",
       "      <td>?</td>\n",
       "      <td>?</td>\n",
       "      <td>?</td>\n",
       "      <td>?</td>\n",
       "      <td>?</td>\n",
       "      <td>?</td>\n",
       "      <td>?</td>\n",
       "      <td>?</td>\n",
       "      <td>?</td>\n",
       "      <td>normal</td>\n",
       "    </tr>\n",
       "  </tbody>\n",
       "</table>\n",
       "<p>5 rows × 155 columns</p>\n",
       "</div>"
      ],
      "text/plain": [
       "   frame.interface_id frame.dlt  frame.offset_shift  frame.time_epoch  \\\n",
       "0                   0         ?                 0.0      1.393661e+09   \n",
       "1                   0         ?                 0.0      1.393661e+09   \n",
       "2                   0         ?                 0.0      1.393661e+09   \n",
       "3                   0         ?                 0.0      1.393661e+09   \n",
       "4                   0         ?                 0.0      1.393661e+09   \n",
       "\n",
       "   frame.time_delta  frame.time_delta_displayed  frame.time_relative  \\\n",
       "0          0.000000                    0.000000             0.000000   \n",
       "1          0.024271                    0.024271             0.024271   \n",
       "2          0.001631                    0.001631             0.025902   \n",
       "3          0.055325                    0.055325             0.081227   \n",
       "4          0.000415                    0.000415             0.081642   \n",
       "\n",
       "   frame.len  frame.cap_len  frame.marked  ...  wlan.qos.priority  \\\n",
       "0        261            261             0  ...                  ?   \n",
       "1        185            185             0  ...                  ?   \n",
       "2        185            185             0  ...                  ?   \n",
       "3        159            159             0  ...                  ?   \n",
       "4         54             54             0  ...                  ?   \n",
       "\n",
       "   wlan.qos.eosp  wlan.qos.ack  wlan.qos.amsdupresent  \\\n",
       "0              ?             ?                      ?   \n",
       "1              ?             ?                      ?   \n",
       "2              ?             ?                      ?   \n",
       "3              ?             ?                      ?   \n",
       "4              ?             ?                      ?   \n",
       "\n",
       "   wlan.qos.buf_state_indicated1  wlan.qos.bit4  wlan.qos.txop_dur_req  \\\n",
       "0                              ?              ?                      ?   \n",
       "1                              ?              ?                      ?   \n",
       "2                              ?              ?                      ?   \n",
       "3                              ?              ?                      ?   \n",
       "4                              ?              ?                      ?   \n",
       "\n",
       "   wlan.qos.buf_state_indicated2  data.len   class  \n",
       "0                              ?         ?  normal  \n",
       "1                              ?         ?  normal  \n",
       "2                              ?         ?  normal  \n",
       "3                              ?         ?  normal  \n",
       "4                              ?         ?  normal  \n",
       "\n",
       "[5 rows x 155 columns]"
      ]
     },
     "execution_count": 4,
     "metadata": {},
     "output_type": "execute_result"
    }
   ],
   "source": [
    "awid.head()"
   ]
  },
  {
   "cell_type": "code",
   "execution_count": 5,
   "metadata": {},
   "outputs": [
    {
     "data": {
      "text/html": [
       "<div>\n",
       "<style scoped>\n",
       "    .dataframe tbody tr th:only-of-type {\n",
       "        vertical-align: middle;\n",
       "    }\n",
       "\n",
       "    .dataframe tbody tr th {\n",
       "        vertical-align: top;\n",
       "    }\n",
       "\n",
       "    .dataframe thead th {\n",
       "        text-align: right;\n",
       "    }\n",
       "</style>\n",
       "<table border=\"1\" class=\"dataframe\">\n",
       "  <thead>\n",
       "    <tr style=\"text-align: right;\">\n",
       "      <th></th>\n",
       "      <th>frame.interface_id</th>\n",
       "      <th>frame.offset_shift</th>\n",
       "      <th>frame.time_epoch</th>\n",
       "      <th>frame.time_delta</th>\n",
       "      <th>frame.time_delta_displayed</th>\n",
       "      <th>frame.time_relative</th>\n",
       "      <th>frame.len</th>\n",
       "      <th>frame.cap_len</th>\n",
       "      <th>frame.marked</th>\n",
       "      <th>frame.ignored</th>\n",
       "      <th>...</th>\n",
       "      <th>radiotap.datarate</th>\n",
       "      <th>wlan.fc.version</th>\n",
       "      <th>wlan.fc.type</th>\n",
       "      <th>wlan.fc.subtype</th>\n",
       "      <th>wlan.fc.frag</th>\n",
       "      <th>wlan.fc.retry</th>\n",
       "      <th>wlan.fc.pwrmgt</th>\n",
       "      <th>wlan.fc.moredata</th>\n",
       "      <th>wlan.fc.protected</th>\n",
       "      <th>wlan.fc.order</th>\n",
       "    </tr>\n",
       "  </thead>\n",
       "  <tbody>\n",
       "    <tr>\n",
       "      <th>count</th>\n",
       "      <td>1795575.0</td>\n",
       "      <td>1795575.0</td>\n",
       "      <td>1.795575e+06</td>\n",
       "      <td>1.795575e+06</td>\n",
       "      <td>1.795575e+06</td>\n",
       "      <td>1.795575e+06</td>\n",
       "      <td>1.795575e+06</td>\n",
       "      <td>1.795575e+06</td>\n",
       "      <td>1795575.0</td>\n",
       "      <td>1795575.0</td>\n",
       "      <td>...</td>\n",
       "      <td>1.795575e+06</td>\n",
       "      <td>1795575.0</td>\n",
       "      <td>1.795575e+06</td>\n",
       "      <td>1.795575e+06</td>\n",
       "      <td>1.795575e+06</td>\n",
       "      <td>1.795575e+06</td>\n",
       "      <td>1.795575e+06</td>\n",
       "      <td>1.795575e+06</td>\n",
       "      <td>1.795575e+06</td>\n",
       "      <td>1795575.0</td>\n",
       "    </tr>\n",
       "    <tr>\n",
       "      <th>mean</th>\n",
       "      <td>0.0</td>\n",
       "      <td>0.0</td>\n",
       "      <td>1.393663e+09</td>\n",
       "      <td>2.004690e-03</td>\n",
       "      <td>2.004690e-03</td>\n",
       "      <td>1.870294e+03</td>\n",
       "      <td>5.153149e+02</td>\n",
       "      <td>5.153149e+02</td>\n",
       "      <td>0.0</td>\n",
       "      <td>0.0</td>\n",
       "      <td>...</td>\n",
       "      <td>2.513950e+01</td>\n",
       "      <td>0.0</td>\n",
       "      <td>1.272582e+00</td>\n",
       "      <td>8.499055e+00</td>\n",
       "      <td>3.748103e-04</td>\n",
       "      <td>1.271080e-01</td>\n",
       "      <td>2.325216e-02</td>\n",
       "      <td>1.772691e-03</td>\n",
       "      <td>4.932927e-01</td>\n",
       "      <td>0.0</td>\n",
       "    </tr>\n",
       "    <tr>\n",
       "      <th>std</th>\n",
       "      <td>0.0</td>\n",
       "      <td>0.0</td>\n",
       "      <td>8.674448e+02</td>\n",
       "      <td>6.379536e-03</td>\n",
       "      <td>6.379536e-03</td>\n",
       "      <td>8.674448e+02</td>\n",
       "      <td>6.649245e+02</td>\n",
       "      <td>6.649245e+02</td>\n",
       "      <td>0.0</td>\n",
       "      <td>0.0</td>\n",
       "      <td>...</td>\n",
       "      <td>2.373590e+01</td>\n",
       "      <td>0.0</td>\n",
       "      <td>8.198060e-01</td>\n",
       "      <td>4.173015e+00</td>\n",
       "      <td>1.935639e-02</td>\n",
       "      <td>3.330940e-01</td>\n",
       "      <td>1.507034e-01</td>\n",
       "      <td>4.206602e-02</td>\n",
       "      <td>4.999551e-01</td>\n",
       "      <td>0.0</td>\n",
       "    </tr>\n",
       "    <tr>\n",
       "      <th>min</th>\n",
       "      <td>0.0</td>\n",
       "      <td>0.0</td>\n",
       "      <td>1.393661e+09</td>\n",
       "      <td>0.000000e+00</td>\n",
       "      <td>0.000000e+00</td>\n",
       "      <td>0.000000e+00</td>\n",
       "      <td>4.000000e+01</td>\n",
       "      <td>4.000000e+01</td>\n",
       "      <td>0.0</td>\n",
       "      <td>0.0</td>\n",
       "      <td>...</td>\n",
       "      <td>1.000000e+00</td>\n",
       "      <td>0.0</td>\n",
       "      <td>0.000000e+00</td>\n",
       "      <td>0.000000e+00</td>\n",
       "      <td>0.000000e+00</td>\n",
       "      <td>0.000000e+00</td>\n",
       "      <td>0.000000e+00</td>\n",
       "      <td>0.000000e+00</td>\n",
       "      <td>0.000000e+00</td>\n",
       "      <td>0.0</td>\n",
       "    </tr>\n",
       "    <tr>\n",
       "      <th>25%</th>\n",
       "      <td>0.0</td>\n",
       "      <td>0.0</td>\n",
       "      <td>1.393662e+09</td>\n",
       "      <td>3.150000e-04</td>\n",
       "      <td>3.150000e-04</td>\n",
       "      <td>1.027875e+03</td>\n",
       "      <td>4.000000e+01</td>\n",
       "      <td>4.000000e+01</td>\n",
       "      <td>0.0</td>\n",
       "      <td>0.0</td>\n",
       "      <td>...</td>\n",
       "      <td>1.000000e+00</td>\n",
       "      <td>0.0</td>\n",
       "      <td>1.000000e+00</td>\n",
       "      <td>8.000000e+00</td>\n",
       "      <td>0.000000e+00</td>\n",
       "      <td>0.000000e+00</td>\n",
       "      <td>0.000000e+00</td>\n",
       "      <td>0.000000e+00</td>\n",
       "      <td>0.000000e+00</td>\n",
       "      <td>0.0</td>\n",
       "    </tr>\n",
       "    <tr>\n",
       "      <th>50%</th>\n",
       "      <td>0.0</td>\n",
       "      <td>0.0</td>\n",
       "      <td>1.393663e+09</td>\n",
       "      <td>5.490000e-04</td>\n",
       "      <td>5.490000e-04</td>\n",
       "      <td>1.902614e+03</td>\n",
       "      <td>1.120000e+02</td>\n",
       "      <td>1.120000e+02</td>\n",
       "      <td>0.0</td>\n",
       "      <td>0.0</td>\n",
       "      <td>...</td>\n",
       "      <td>2.400000e+01</td>\n",
       "      <td>0.0</td>\n",
       "      <td>2.000000e+00</td>\n",
       "      <td>8.000000e+00</td>\n",
       "      <td>0.000000e+00</td>\n",
       "      <td>0.000000e+00</td>\n",
       "      <td>0.000000e+00</td>\n",
       "      <td>0.000000e+00</td>\n",
       "      <td>0.000000e+00</td>\n",
       "      <td>0.0</td>\n",
       "    </tr>\n",
       "    <tr>\n",
       "      <th>75%</th>\n",
       "      <td>0.0</td>\n",
       "      <td>0.0</td>\n",
       "      <td>1.393664e+09</td>\n",
       "      <td>1.113000e-03</td>\n",
       "      <td>1.113000e-03</td>\n",
       "      <td>2.524325e+03</td>\n",
       "      <td>1.552000e+03</td>\n",
       "      <td>1.552000e+03</td>\n",
       "      <td>0.0</td>\n",
       "      <td>0.0</td>\n",
       "      <td>...</td>\n",
       "      <td>5.400000e+01</td>\n",
       "      <td>0.0</td>\n",
       "      <td>2.000000e+00</td>\n",
       "      <td>1.200000e+01</td>\n",
       "      <td>0.000000e+00</td>\n",
       "      <td>0.000000e+00</td>\n",
       "      <td>0.000000e+00</td>\n",
       "      <td>0.000000e+00</td>\n",
       "      <td>1.000000e+00</td>\n",
       "      <td>0.0</td>\n",
       "    </tr>\n",
       "    <tr>\n",
       "      <th>max</th>\n",
       "      <td>0.0</td>\n",
       "      <td>0.0</td>\n",
       "      <td>1.393665e+09</td>\n",
       "      <td>3.502630e-01</td>\n",
       "      <td>3.502630e-01</td>\n",
       "      <td>3.599571e+03</td>\n",
       "      <td>1.570000e+03</td>\n",
       "      <td>1.570000e+03</td>\n",
       "      <td>0.0</td>\n",
       "      <td>0.0</td>\n",
       "      <td>...</td>\n",
       "      <td>5.400000e+01</td>\n",
       "      <td>0.0</td>\n",
       "      <td>2.000000e+00</td>\n",
       "      <td>1.300000e+01</td>\n",
       "      <td>1.000000e+00</td>\n",
       "      <td>1.000000e+00</td>\n",
       "      <td>1.000000e+00</td>\n",
       "      <td>1.000000e+00</td>\n",
       "      <td>1.000000e+00</td>\n",
       "      <td>0.0</td>\n",
       "    </tr>\n",
       "  </tbody>\n",
       "</table>\n",
       "<p>8 rows × 45 columns</p>\n",
       "</div>"
      ],
      "text/plain": [
       "       frame.interface_id  frame.offset_shift  frame.time_epoch  \\\n",
       "count           1795575.0           1795575.0      1.795575e+06   \n",
       "mean                  0.0                 0.0      1.393663e+09   \n",
       "std                   0.0                 0.0      8.674448e+02   \n",
       "min                   0.0                 0.0      1.393661e+09   \n",
       "25%                   0.0                 0.0      1.393662e+09   \n",
       "50%                   0.0                 0.0      1.393663e+09   \n",
       "75%                   0.0                 0.0      1.393664e+09   \n",
       "max                   0.0                 0.0      1.393665e+09   \n",
       "\n",
       "       frame.time_delta  frame.time_delta_displayed  frame.time_relative  \\\n",
       "count      1.795575e+06                1.795575e+06         1.795575e+06   \n",
       "mean       2.004690e-03                2.004690e-03         1.870294e+03   \n",
       "std        6.379536e-03                6.379536e-03         8.674448e+02   \n",
       "min        0.000000e+00                0.000000e+00         0.000000e+00   \n",
       "25%        3.150000e-04                3.150000e-04         1.027875e+03   \n",
       "50%        5.490000e-04                5.490000e-04         1.902614e+03   \n",
       "75%        1.113000e-03                1.113000e-03         2.524325e+03   \n",
       "max        3.502630e-01                3.502630e-01         3.599571e+03   \n",
       "\n",
       "          frame.len  frame.cap_len  frame.marked  frame.ignored  ...  \\\n",
       "count  1.795575e+06   1.795575e+06     1795575.0      1795575.0  ...   \n",
       "mean   5.153149e+02   5.153149e+02           0.0            0.0  ...   \n",
       "std    6.649245e+02   6.649245e+02           0.0            0.0  ...   \n",
       "min    4.000000e+01   4.000000e+01           0.0            0.0  ...   \n",
       "25%    4.000000e+01   4.000000e+01           0.0            0.0  ...   \n",
       "50%    1.120000e+02   1.120000e+02           0.0            0.0  ...   \n",
       "75%    1.552000e+03   1.552000e+03           0.0            0.0  ...   \n",
       "max    1.570000e+03   1.570000e+03           0.0            0.0  ...   \n",
       "\n",
       "       radiotap.datarate  wlan.fc.version  wlan.fc.type  wlan.fc.subtype  \\\n",
       "count       1.795575e+06        1795575.0  1.795575e+06     1.795575e+06   \n",
       "mean        2.513950e+01              0.0  1.272582e+00     8.499055e+00   \n",
       "std         2.373590e+01              0.0  8.198060e-01     4.173015e+00   \n",
       "min         1.000000e+00              0.0  0.000000e+00     0.000000e+00   \n",
       "25%         1.000000e+00              0.0  1.000000e+00     8.000000e+00   \n",
       "50%         2.400000e+01              0.0  2.000000e+00     8.000000e+00   \n",
       "75%         5.400000e+01              0.0  2.000000e+00     1.200000e+01   \n",
       "max         5.400000e+01              0.0  2.000000e+00     1.300000e+01   \n",
       "\n",
       "       wlan.fc.frag  wlan.fc.retry  wlan.fc.pwrmgt  wlan.fc.moredata  \\\n",
       "count  1.795575e+06   1.795575e+06    1.795575e+06      1.795575e+06   \n",
       "mean   3.748103e-04   1.271080e-01    2.325216e-02      1.772691e-03   \n",
       "std    1.935639e-02   3.330940e-01    1.507034e-01      4.206602e-02   \n",
       "min    0.000000e+00   0.000000e+00    0.000000e+00      0.000000e+00   \n",
       "25%    0.000000e+00   0.000000e+00    0.000000e+00      0.000000e+00   \n",
       "50%    0.000000e+00   0.000000e+00    0.000000e+00      0.000000e+00   \n",
       "75%    0.000000e+00   0.000000e+00    0.000000e+00      0.000000e+00   \n",
       "max    1.000000e+00   1.000000e+00    1.000000e+00      1.000000e+00   \n",
       "\n",
       "       wlan.fc.protected  wlan.fc.order  \n",
       "count       1.795575e+06      1795575.0  \n",
       "mean        4.932927e-01            0.0  \n",
       "std         4.999551e-01            0.0  \n",
       "min         0.000000e+00            0.0  \n",
       "25%         0.000000e+00            0.0  \n",
       "50%         0.000000e+00            0.0  \n",
       "75%         1.000000e+00            0.0  \n",
       "max         1.000000e+00            0.0  \n",
       "\n",
       "[8 rows x 45 columns]"
      ]
     },
     "execution_count": 5,
     "metadata": {},
     "output_type": "execute_result"
    }
   ],
   "source": [
    "awid.describe()"
   ]
  },
  {
   "cell_type": "code",
   "execution_count": null,
   "metadata": {},
   "outputs": [],
   "source": []
  },
  {
   "cell_type": "code",
   "execution_count": 6,
   "metadata": {},
   "outputs": [
    {
     "data": {
      "text/plain": [
       "class\n",
       "normal           1633190\n",
       "injection          65379\n",
       "impersonation      48522\n",
       "flooding           48484\n",
       "Name: count, dtype: int64"
      ]
     },
     "execution_count": 6,
     "metadata": {},
     "output_type": "execute_result"
    }
   ],
   "source": [
    "awid['class'].value_counts()"
   ]
  },
  {
   "cell_type": "code",
   "execution_count": 7,
   "metadata": {},
   "outputs": [
    {
     "data": {
      "text/plain": [
       "frame.interface_id               0\n",
       "frame.dlt                        0\n",
       "frame.offset_shift               0\n",
       "frame.time_epoch                 0\n",
       "frame.time_delta                 0\n",
       "                                ..\n",
       "wlan.qos.bit4                    0\n",
       "wlan.qos.txop_dur_req            0\n",
       "wlan.qos.buf_state_indicated2    0\n",
       "data.len                         0\n",
       "class                            0\n",
       "Length: 155, dtype: int64"
      ]
     },
     "execution_count": 7,
     "metadata": {},
     "output_type": "execute_result"
    }
   ],
   "source": [
    "awid.isna().sum()"
   ]
  },
  {
   "cell_type": "markdown",
   "metadata": {},
   "source": [
    "<h2> Dropping columns with 50% of null data</h2>"
   ]
  },
  {
   "cell_type": "code",
   "execution_count": 8,
   "metadata": {},
   "outputs": [
    {
     "data": {
      "text/plain": [
       "(70,)"
      ]
     },
     "execution_count": 8,
     "metadata": {},
     "output_type": "execute_result"
    }
   ],
   "source": [
    "awid.replace({\"?\":None}, inplace=True)\n",
    "null_column=awid.columns[awid.isnull().mean() >= 0.51]\n",
    "null_column.shape"
   ]
  },
  {
   "cell_type": "markdown",
   "metadata": {},
   "source": [
    "<h2>Dropping all the null rows</h2>"
   ]
  },
  {
   "cell_type": "code",
   "execution_count": 9,
   "metadata": {},
   "outputs": [],
   "source": [
    "awid.drop(null_column, axis=1, inplace=True)\n",
    "awid.dropna(inplace=True)"
   ]
  },
  {
   "cell_type": "code",
   "execution_count": 10,
   "metadata": {},
   "outputs": [
    {
     "data": {
      "text/plain": [
       "frame.interface_id            0\n",
       "frame.offset_shift            0\n",
       "frame.time_epoch              0\n",
       "frame.time_delta              0\n",
       "frame.time_delta_displayed    0\n",
       "                             ..\n",
       "wlan.seq                      0\n",
       "wlan.fcs_good                 0\n",
       "wlan.wep.key                  0\n",
       "data.len                      0\n",
       "class                         0\n",
       "Length: 85, dtype: int64"
      ]
     },
     "execution_count": 10,
     "metadata": {},
     "output_type": "execute_result"
    }
   ],
   "source": [
    "awid.isna().sum()"
   ]
  },
  {
   "cell_type": "code",
   "execution_count": 11,
   "metadata": {},
   "outputs": [
    {
     "data": {
      "text/plain": [
       "class\n",
       "normal           775634\n",
       "injection         65379\n",
       "impersonation     44731\n",
       "Name: count, dtype: int64"
      ]
     },
     "execution_count": 11,
     "metadata": {},
     "output_type": "execute_result"
    }
   ],
   "source": [
    "awid['class'].value_counts()\n"
   ]
  },
  {
   "cell_type": "markdown",
   "metadata": {},
   "source": [
    "<h2>Converting all the Columns to numeric</h2>"
   ]
  },
  {
   "cell_type": "code",
   "execution_count": 12,
   "metadata": {},
   "outputs": [
    {
     "name": "stderr",
     "output_type": "stream",
     "text": [
      "/tmp/ipykernel_2521/2988672956.py:2: FutureWarning: errors='ignore' is deprecated and will raise in a future version. Use to_numeric without passing `errors` and catch exceptions explicitly instead\n",
      "  awid[col]=pd.to_numeric(awid[col], errors='ignore')\n"
     ]
    }
   ],
   "source": [
    "for col in awid.columns:\n",
    "    awid[col]=pd.to_numeric(awid[col], errors='ignore')"
   ]
  },
  {
   "cell_type": "code",
   "execution_count": 13,
   "metadata": {},
   "outputs": [
    {
     "data": {
      "text/html": [
       "<div>\n",
       "<style scoped>\n",
       "    .dataframe tbody tr th:only-of-type {\n",
       "        vertical-align: middle;\n",
       "    }\n",
       "\n",
       "    .dataframe tbody tr th {\n",
       "        vertical-align: top;\n",
       "    }\n",
       "\n",
       "    .dataframe thead th {\n",
       "        text-align: right;\n",
       "    }\n",
       "</style>\n",
       "<table border=\"1\" class=\"dataframe\">\n",
       "  <thead>\n",
       "    <tr style=\"text-align: right;\">\n",
       "      <th></th>\n",
       "      <th>frame.interface_id</th>\n",
       "      <th>frame.offset_shift</th>\n",
       "      <th>frame.time_epoch</th>\n",
       "      <th>frame.time_delta</th>\n",
       "      <th>frame.time_delta_displayed</th>\n",
       "      <th>frame.time_relative</th>\n",
       "      <th>frame.len</th>\n",
       "      <th>frame.cap_len</th>\n",
       "      <th>frame.marked</th>\n",
       "      <th>frame.ignored</th>\n",
       "      <th>...</th>\n",
       "      <th>wlan.fc.pwrmgt</th>\n",
       "      <th>wlan.fc.moredata</th>\n",
       "      <th>wlan.fc.protected</th>\n",
       "      <th>wlan.fc.order</th>\n",
       "      <th>wlan.duration</th>\n",
       "      <th>wlan.frag</th>\n",
       "      <th>wlan.seq</th>\n",
       "      <th>wlan.fcs_good</th>\n",
       "      <th>wlan.wep.key</th>\n",
       "      <th>data.len</th>\n",
       "    </tr>\n",
       "  </thead>\n",
       "  <tbody>\n",
       "    <tr>\n",
       "      <th>17</th>\n",
       "      <td>0</td>\n",
       "      <td>0.0</td>\n",
       "      <td>1.393661e+09</td>\n",
       "      <td>0.002270</td>\n",
       "      <td>0.002270</td>\n",
       "      <td>0.217518</td>\n",
       "      <td>1524</td>\n",
       "      <td>1524</td>\n",
       "      <td>0</td>\n",
       "      <td>0</td>\n",
       "      <td>...</td>\n",
       "      <td>0</td>\n",
       "      <td>0</td>\n",
       "      <td>1</td>\n",
       "      <td>0</td>\n",
       "      <td>44</td>\n",
       "      <td>0</td>\n",
       "      <td>96</td>\n",
       "      <td>1</td>\n",
       "      <td>0</td>\n",
       "      <td>1460</td>\n",
       "    </tr>\n",
       "    <tr>\n",
       "      <th>18</th>\n",
       "      <td>0</td>\n",
       "      <td>0.0</td>\n",
       "      <td>1.393661e+09</td>\n",
       "      <td>0.000621</td>\n",
       "      <td>0.000621</td>\n",
       "      <td>0.218139</td>\n",
       "      <td>124</td>\n",
       "      <td>124</td>\n",
       "      <td>0</td>\n",
       "      <td>0</td>\n",
       "      <td>...</td>\n",
       "      <td>0</td>\n",
       "      <td>0</td>\n",
       "      <td>1</td>\n",
       "      <td>0</td>\n",
       "      <td>44</td>\n",
       "      <td>0</td>\n",
       "      <td>1217</td>\n",
       "      <td>1</td>\n",
       "      <td>0</td>\n",
       "      <td>60</td>\n",
       "    </tr>\n",
       "    <tr>\n",
       "      <th>20</th>\n",
       "      <td>0</td>\n",
       "      <td>0.0</td>\n",
       "      <td>1.393661e+09</td>\n",
       "      <td>0.000144</td>\n",
       "      <td>0.000144</td>\n",
       "      <td>0.229118</td>\n",
       "      <td>153</td>\n",
       "      <td>153</td>\n",
       "      <td>0</td>\n",
       "      <td>0</td>\n",
       "      <td>...</td>\n",
       "      <td>0</td>\n",
       "      <td>0</td>\n",
       "      <td>1</td>\n",
       "      <td>0</td>\n",
       "      <td>44</td>\n",
       "      <td>0</td>\n",
       "      <td>97</td>\n",
       "      <td>1</td>\n",
       "      <td>0</td>\n",
       "      <td>89</td>\n",
       "    </tr>\n",
       "    <tr>\n",
       "      <th>28</th>\n",
       "      <td>0</td>\n",
       "      <td>0.0</td>\n",
       "      <td>1.393661e+09</td>\n",
       "      <td>0.021711</td>\n",
       "      <td>0.021711</td>\n",
       "      <td>0.367359</td>\n",
       "      <td>124</td>\n",
       "      <td>124</td>\n",
       "      <td>0</td>\n",
       "      <td>0</td>\n",
       "      <td>...</td>\n",
       "      <td>0</td>\n",
       "      <td>0</td>\n",
       "      <td>1</td>\n",
       "      <td>0</td>\n",
       "      <td>44</td>\n",
       "      <td>0</td>\n",
       "      <td>1220</td>\n",
       "      <td>1</td>\n",
       "      <td>0</td>\n",
       "      <td>60</td>\n",
       "    </tr>\n",
       "    <tr>\n",
       "      <th>31</th>\n",
       "      <td>0</td>\n",
       "      <td>0.0</td>\n",
       "      <td>1.393661e+09</td>\n",
       "      <td>0.000058</td>\n",
       "      <td>0.000058</td>\n",
       "      <td>0.380933</td>\n",
       "      <td>124</td>\n",
       "      <td>124</td>\n",
       "      <td>0</td>\n",
       "      <td>0</td>\n",
       "      <td>...</td>\n",
       "      <td>0</td>\n",
       "      <td>0</td>\n",
       "      <td>1</td>\n",
       "      <td>0</td>\n",
       "      <td>44</td>\n",
       "      <td>0</td>\n",
       "      <td>99</td>\n",
       "      <td>1</td>\n",
       "      <td>0</td>\n",
       "      <td>60</td>\n",
       "    </tr>\n",
       "  </tbody>\n",
       "</table>\n",
       "<p>5 rows × 76 columns</p>\n",
       "</div>"
      ],
      "text/plain": [
       "    frame.interface_id  frame.offset_shift  frame.time_epoch  \\\n",
       "17                   0                 0.0      1.393661e+09   \n",
       "18                   0                 0.0      1.393661e+09   \n",
       "20                   0                 0.0      1.393661e+09   \n",
       "28                   0                 0.0      1.393661e+09   \n",
       "31                   0                 0.0      1.393661e+09   \n",
       "\n",
       "    frame.time_delta  frame.time_delta_displayed  frame.time_relative  \\\n",
       "17          0.002270                    0.002270             0.217518   \n",
       "18          0.000621                    0.000621             0.218139   \n",
       "20          0.000144                    0.000144             0.229118   \n",
       "28          0.021711                    0.021711             0.367359   \n",
       "31          0.000058                    0.000058             0.380933   \n",
       "\n",
       "    frame.len  frame.cap_len  frame.marked  frame.ignored  ...  \\\n",
       "17       1524           1524             0              0  ...   \n",
       "18        124            124             0              0  ...   \n",
       "20        153            153             0              0  ...   \n",
       "28        124            124             0              0  ...   \n",
       "31        124            124             0              0  ...   \n",
       "\n",
       "    wlan.fc.pwrmgt  wlan.fc.moredata  wlan.fc.protected  wlan.fc.order  \\\n",
       "17               0                 0                  1              0   \n",
       "18               0                 0                  1              0   \n",
       "20               0                 0                  1              0   \n",
       "28               0                 0                  1              0   \n",
       "31               0                 0                  1              0   \n",
       "\n",
       "    wlan.duration  wlan.frag  wlan.seq  wlan.fcs_good  wlan.wep.key  data.len  \n",
       "17             44          0        96              1             0      1460  \n",
       "18             44          0      1217              1             0        60  \n",
       "20             44          0        97              1             0        89  \n",
       "28             44          0      1220              1             0        60  \n",
       "31             44          0        99              1             0        60  \n",
       "\n",
       "[5 rows x 76 columns]"
      ]
     },
     "execution_count": 13,
     "metadata": {},
     "output_type": "execute_result"
    }
   ],
   "source": [
    "awid.select_dtypes(['number']).head()"
   ]
  },
  {
   "cell_type": "markdown",
   "metadata": {},
   "source": [
    "<h2>Splitting the training data</h2>"
   ]
  },
  {
   "cell_type": "code",
   "execution_count": 14,
   "metadata": {},
   "outputs": [],
   "source": [
    "X_train, y_train = awid.select_dtypes(['number']), awid['class']\n"
   ]
  },
  {
   "cell_type": "code",
   "execution_count": 15,
   "metadata": {},
   "outputs": [
    {
     "data": {
      "text/plain": [
       "class\n",
       "normal           775634\n",
       "injection         65379\n",
       "impersonation     44731\n",
       "Name: count, dtype: int64"
      ]
     },
     "execution_count": 15,
     "metadata": {},
     "output_type": "execute_result"
    }
   ],
   "source": [
    "y_train.value_counts()"
   ]
  },
  {
   "cell_type": "code",
   "execution_count": null,
   "metadata": {},
   "outputs": [],
   "source": []
  },
  {
   "cell_type": "code",
   "execution_count": 16,
   "metadata": {},
   "outputs": [
    {
     "data": {
      "text/plain": [
       "(885744, 76)"
      ]
     },
     "execution_count": 16,
     "metadata": {},
     "output_type": "execute_result"
    }
   ],
   "source": [
    "X_train.shape"
   ]
  },
  {
   "cell_type": "markdown",
   "metadata": {},
   "source": [
    "<h2>Testing Data</h2>"
   ]
  },
  {
   "cell_type": "code",
   "execution_count": 17,
   "metadata": {
    "scrolled": true
   },
   "outputs": [
    {
     "name": "stderr",
     "output_type": "stream",
     "text": [
      "/tmp/ipykernel_2521/1131828012.py:1: DtypeWarning: Columns (37,38,39,40,41,42,43,44,45,47,48,49,50,51,52,53,54,55,56,57,58,59,60,61,62,74,88) have mixed types. Specify dtype option on import or set low_memory=False.\n",
      "  awid_test = pd.read_csv(\"AWID-CLS-R-Tst/1\", header=None, names=features)\n"
     ]
    }
   ],
   "source": [
    "awid_test = pd.read_csv(\"AWID-CLS-R-Tst/1\", header=None, names=features)\n"
   ]
  },
  {
   "cell_type": "markdown",
   "metadata": {},
   "source": [
    "<h2>Cleaning testing data</h2>"
   ]
  },
  {
   "cell_type": "code",
   "execution_count": 18,
   "metadata": {
    "scrolled": true
   },
   "outputs": [
    {
     "name": "stderr",
     "output_type": "stream",
     "text": [
      "/tmp/ipykernel_2521/2477305186.py:8: FutureWarning: errors='ignore' is deprecated and will raise in a future version. Use to_numeric without passing `errors` and catch exceptions explicitly instead\n",
      "  awid_test[col]=pd.to_numeric(awid_test[col], errors='ignore')\n"
     ]
    }
   ],
   "source": [
    "awid_test.isna().sum()\n",
    "awid_test.replace({\"?\":None}, inplace=True)\n",
    "test_null_column=awid_test.columns[awid_test.isnull().mean() >= 0.5]\n",
    "awid_test.drop(test_null_column, axis=1, inplace=True)\n",
    "awid_test.dropna(inplace=True)\n",
    "\n",
    "for col in awid_test.columns:\n",
    "    awid_test[col]=pd.to_numeric(awid_test[col], errors='ignore')\n",
    "\n",
    "\n",
    "X_test, y_test = awid_test.select_dtypes(['number']), awid_test['class']\n"
   ]
  },
  {
   "cell_type": "code",
   "execution_count": 19,
   "metadata": {},
   "outputs": [
    {
     "data": {
      "text/html": [
       "<div>\n",
       "<style scoped>\n",
       "    .dataframe tbody tr th:only-of-type {\n",
       "        vertical-align: middle;\n",
       "    }\n",
       "\n",
       "    .dataframe tbody tr th {\n",
       "        vertical-align: top;\n",
       "    }\n",
       "\n",
       "    .dataframe thead th {\n",
       "        text-align: right;\n",
       "    }\n",
       "</style>\n",
       "<table border=\"1\" class=\"dataframe\">\n",
       "  <thead>\n",
       "    <tr style=\"text-align: right;\">\n",
       "      <th></th>\n",
       "      <th>frame.interface_id</th>\n",
       "      <th>frame.offset_shift</th>\n",
       "      <th>frame.time_epoch</th>\n",
       "      <th>frame.time_delta</th>\n",
       "      <th>frame.time_delta_displayed</th>\n",
       "      <th>frame.time_relative</th>\n",
       "      <th>frame.len</th>\n",
       "      <th>frame.cap_len</th>\n",
       "      <th>frame.marked</th>\n",
       "      <th>frame.ignored</th>\n",
       "      <th>...</th>\n",
       "      <th>wlan.fc.pwrmgt</th>\n",
       "      <th>wlan.fc.moredata</th>\n",
       "      <th>wlan.fc.protected</th>\n",
       "      <th>wlan.fc.order</th>\n",
       "      <th>wlan.duration</th>\n",
       "      <th>wlan.frag</th>\n",
       "      <th>wlan.seq</th>\n",
       "      <th>wlan.fcs_good</th>\n",
       "      <th>wlan.wep.key</th>\n",
       "      <th>data.len</th>\n",
       "    </tr>\n",
       "  </thead>\n",
       "  <tbody>\n",
       "    <tr>\n",
       "      <th>0</th>\n",
       "      <td>0</td>\n",
       "      <td>0.0</td>\n",
       "      <td>1.393668e+09</td>\n",
       "      <td>0.000000</td>\n",
       "      <td>0.000000</td>\n",
       "      <td>0.000000</td>\n",
       "      <td>1552</td>\n",
       "      <td>1552</td>\n",
       "      <td>0</td>\n",
       "      <td>0</td>\n",
       "      <td>...</td>\n",
       "      <td>0</td>\n",
       "      <td>0</td>\n",
       "      <td>1</td>\n",
       "      <td>0</td>\n",
       "      <td>44</td>\n",
       "      <td>0</td>\n",
       "      <td>2313</td>\n",
       "      <td>1</td>\n",
       "      <td>0</td>\n",
       "      <td>1488</td>\n",
       "    </tr>\n",
       "    <tr>\n",
       "      <th>1</th>\n",
       "      <td>0</td>\n",
       "      <td>0.0</td>\n",
       "      <td>1.393668e+09</td>\n",
       "      <td>0.001056</td>\n",
       "      <td>0.001056</td>\n",
       "      <td>0.001056</td>\n",
       "      <td>1552</td>\n",
       "      <td>1552</td>\n",
       "      <td>0</td>\n",
       "      <td>0</td>\n",
       "      <td>...</td>\n",
       "      <td>0</td>\n",
       "      <td>0</td>\n",
       "      <td>1</td>\n",
       "      <td>0</td>\n",
       "      <td>44</td>\n",
       "      <td>0</td>\n",
       "      <td>2314</td>\n",
       "      <td>1</td>\n",
       "      <td>0</td>\n",
       "      <td>1488</td>\n",
       "    </tr>\n",
       "    <tr>\n",
       "      <th>4</th>\n",
       "      <td>0</td>\n",
       "      <td>0.0</td>\n",
       "      <td>1.393668e+09</td>\n",
       "      <td>0.001842</td>\n",
       "      <td>0.001842</td>\n",
       "      <td>0.003195</td>\n",
       "      <td>1552</td>\n",
       "      <td>1552</td>\n",
       "      <td>0</td>\n",
       "      <td>0</td>\n",
       "      <td>...</td>\n",
       "      <td>0</td>\n",
       "      <td>0</td>\n",
       "      <td>1</td>\n",
       "      <td>0</td>\n",
       "      <td>44</td>\n",
       "      <td>0</td>\n",
       "      <td>2318</td>\n",
       "      <td>1</td>\n",
       "      <td>0</td>\n",
       "      <td>1488</td>\n",
       "    </tr>\n",
       "    <tr>\n",
       "      <th>5</th>\n",
       "      <td>0</td>\n",
       "      <td>0.0</td>\n",
       "      <td>1.393668e+09</td>\n",
       "      <td>0.006015</td>\n",
       "      <td>0.006015</td>\n",
       "      <td>0.009210</td>\n",
       "      <td>1552</td>\n",
       "      <td>1552</td>\n",
       "      <td>0</td>\n",
       "      <td>0</td>\n",
       "      <td>...</td>\n",
       "      <td>0</td>\n",
       "      <td>0</td>\n",
       "      <td>1</td>\n",
       "      <td>0</td>\n",
       "      <td>44</td>\n",
       "      <td>0</td>\n",
       "      <td>2328</td>\n",
       "      <td>1</td>\n",
       "      <td>0</td>\n",
       "      <td>1488</td>\n",
       "    </tr>\n",
       "    <tr>\n",
       "      <th>6</th>\n",
       "      <td>0</td>\n",
       "      <td>0.0</td>\n",
       "      <td>1.393668e+09</td>\n",
       "      <td>0.000940</td>\n",
       "      <td>0.000940</td>\n",
       "      <td>0.010150</td>\n",
       "      <td>1552</td>\n",
       "      <td>1552</td>\n",
       "      <td>0</td>\n",
       "      <td>0</td>\n",
       "      <td>...</td>\n",
       "      <td>0</td>\n",
       "      <td>0</td>\n",
       "      <td>1</td>\n",
       "      <td>0</td>\n",
       "      <td>44</td>\n",
       "      <td>0</td>\n",
       "      <td>2330</td>\n",
       "      <td>1</td>\n",
       "      <td>0</td>\n",
       "      <td>1488</td>\n",
       "    </tr>\n",
       "    <tr>\n",
       "      <th>...</th>\n",
       "      <td>...</td>\n",
       "      <td>...</td>\n",
       "      <td>...</td>\n",
       "      <td>...</td>\n",
       "      <td>...</td>\n",
       "      <td>...</td>\n",
       "      <td>...</td>\n",
       "      <td>...</td>\n",
       "      <td>...</td>\n",
       "      <td>...</td>\n",
       "      <td>...</td>\n",
       "      <td>...</td>\n",
       "      <td>...</td>\n",
       "      <td>...</td>\n",
       "      <td>...</td>\n",
       "      <td>...</td>\n",
       "      <td>...</td>\n",
       "      <td>...</td>\n",
       "      <td>...</td>\n",
       "      <td>...</td>\n",
       "      <td>...</td>\n",
       "    </tr>\n",
       "    <tr>\n",
       "      <th>575635</th>\n",
       "      <td>0</td>\n",
       "      <td>0.0</td>\n",
       "      <td>1.393669e+09</td>\n",
       "      <td>0.005206</td>\n",
       "      <td>0.005206</td>\n",
       "      <td>1200.252450</td>\n",
       "      <td>177</td>\n",
       "      <td>177</td>\n",
       "      <td>0</td>\n",
       "      <td>0</td>\n",
       "      <td>...</td>\n",
       "      <td>0</td>\n",
       "      <td>0</td>\n",
       "      <td>1</td>\n",
       "      <td>0</td>\n",
       "      <td>44</td>\n",
       "      <td>0</td>\n",
       "      <td>1404</td>\n",
       "      <td>1</td>\n",
       "      <td>0</td>\n",
       "      <td>113</td>\n",
       "    </tr>\n",
       "    <tr>\n",
       "      <th>575637</th>\n",
       "      <td>0</td>\n",
       "      <td>0.0</td>\n",
       "      <td>1.393669e+09</td>\n",
       "      <td>0.003354</td>\n",
       "      <td>0.003354</td>\n",
       "      <td>1200.261305</td>\n",
       "      <td>124</td>\n",
       "      <td>124</td>\n",
       "      <td>0</td>\n",
       "      <td>0</td>\n",
       "      <td>...</td>\n",
       "      <td>0</td>\n",
       "      <td>0</td>\n",
       "      <td>1</td>\n",
       "      <td>0</td>\n",
       "      <td>44</td>\n",
       "      <td>0</td>\n",
       "      <td>1405</td>\n",
       "      <td>1</td>\n",
       "      <td>0</td>\n",
       "      <td>60</td>\n",
       "    </tr>\n",
       "    <tr>\n",
       "      <th>575640</th>\n",
       "      <td>0</td>\n",
       "      <td>0.0</td>\n",
       "      <td>1.393669e+09</td>\n",
       "      <td>0.008112</td>\n",
       "      <td>0.008112</td>\n",
       "      <td>1200.275545</td>\n",
       "      <td>124</td>\n",
       "      <td>124</td>\n",
       "      <td>0</td>\n",
       "      <td>0</td>\n",
       "      <td>...</td>\n",
       "      <td>0</td>\n",
       "      <td>0</td>\n",
       "      <td>1</td>\n",
       "      <td>0</td>\n",
       "      <td>44</td>\n",
       "      <td>0</td>\n",
       "      <td>1407</td>\n",
       "      <td>1</td>\n",
       "      <td>0</td>\n",
       "      <td>60</td>\n",
       "    </tr>\n",
       "    <tr>\n",
       "      <th>575641</th>\n",
       "      <td>0</td>\n",
       "      <td>0.0</td>\n",
       "      <td>1.393669e+09</td>\n",
       "      <td>0.006147</td>\n",
       "      <td>0.006147</td>\n",
       "      <td>1200.281692</td>\n",
       "      <td>1524</td>\n",
       "      <td>1524</td>\n",
       "      <td>0</td>\n",
       "      <td>0</td>\n",
       "      <td>...</td>\n",
       "      <td>0</td>\n",
       "      <td>0</td>\n",
       "      <td>1</td>\n",
       "      <td>0</td>\n",
       "      <td>44</td>\n",
       "      <td>0</td>\n",
       "      <td>420</td>\n",
       "      <td>1</td>\n",
       "      <td>0</td>\n",
       "      <td>1460</td>\n",
       "    </tr>\n",
       "    <tr>\n",
       "      <th>575642</th>\n",
       "      <td>0</td>\n",
       "      <td>0.0</td>\n",
       "      <td>1.393669e+09</td>\n",
       "      <td>0.008180</td>\n",
       "      <td>0.008180</td>\n",
       "      <td>1200.289872</td>\n",
       "      <td>124</td>\n",
       "      <td>124</td>\n",
       "      <td>0</td>\n",
       "      <td>0</td>\n",
       "      <td>...</td>\n",
       "      <td>0</td>\n",
       "      <td>0</td>\n",
       "      <td>1</td>\n",
       "      <td>0</td>\n",
       "      <td>44</td>\n",
       "      <td>0</td>\n",
       "      <td>1461</td>\n",
       "      <td>1</td>\n",
       "      <td>0</td>\n",
       "      <td>60</td>\n",
       "    </tr>\n",
       "  </tbody>\n",
       "</table>\n",
       "<p>313248 rows × 76 columns</p>\n",
       "</div>"
      ],
      "text/plain": [
       "        frame.interface_id  frame.offset_shift  frame.time_epoch  \\\n",
       "0                        0                 0.0      1.393668e+09   \n",
       "1                        0                 0.0      1.393668e+09   \n",
       "4                        0                 0.0      1.393668e+09   \n",
       "5                        0                 0.0      1.393668e+09   \n",
       "6                        0                 0.0      1.393668e+09   \n",
       "...                    ...                 ...               ...   \n",
       "575635                   0                 0.0      1.393669e+09   \n",
       "575637                   0                 0.0      1.393669e+09   \n",
       "575640                   0                 0.0      1.393669e+09   \n",
       "575641                   0                 0.0      1.393669e+09   \n",
       "575642                   0                 0.0      1.393669e+09   \n",
       "\n",
       "        frame.time_delta  frame.time_delta_displayed  frame.time_relative  \\\n",
       "0               0.000000                    0.000000             0.000000   \n",
       "1               0.001056                    0.001056             0.001056   \n",
       "4               0.001842                    0.001842             0.003195   \n",
       "5               0.006015                    0.006015             0.009210   \n",
       "6               0.000940                    0.000940             0.010150   \n",
       "...                  ...                         ...                  ...   \n",
       "575635          0.005206                    0.005206          1200.252450   \n",
       "575637          0.003354                    0.003354          1200.261305   \n",
       "575640          0.008112                    0.008112          1200.275545   \n",
       "575641          0.006147                    0.006147          1200.281692   \n",
       "575642          0.008180                    0.008180          1200.289872   \n",
       "\n",
       "        frame.len  frame.cap_len  frame.marked  frame.ignored  ...  \\\n",
       "0            1552           1552             0              0  ...   \n",
       "1            1552           1552             0              0  ...   \n",
       "4            1552           1552             0              0  ...   \n",
       "5            1552           1552             0              0  ...   \n",
       "6            1552           1552             0              0  ...   \n",
       "...           ...            ...           ...            ...  ...   \n",
       "575635        177            177             0              0  ...   \n",
       "575637        124            124             0              0  ...   \n",
       "575640        124            124             0              0  ...   \n",
       "575641       1524           1524             0              0  ...   \n",
       "575642        124            124             0              0  ...   \n",
       "\n",
       "        wlan.fc.pwrmgt  wlan.fc.moredata  wlan.fc.protected  wlan.fc.order  \\\n",
       "0                    0                 0                  1              0   \n",
       "1                    0                 0                  1              0   \n",
       "4                    0                 0                  1              0   \n",
       "5                    0                 0                  1              0   \n",
       "6                    0                 0                  1              0   \n",
       "...                ...               ...                ...            ...   \n",
       "575635               0                 0                  1              0   \n",
       "575637               0                 0                  1              0   \n",
       "575640               0                 0                  1              0   \n",
       "575641               0                 0                  1              0   \n",
       "575642               0                 0                  1              0   \n",
       "\n",
       "        wlan.duration  wlan.frag  wlan.seq  wlan.fcs_good  wlan.wep.key  \\\n",
       "0                  44          0      2313              1             0   \n",
       "1                  44          0      2314              1             0   \n",
       "4                  44          0      2318              1             0   \n",
       "5                  44          0      2328              1             0   \n",
       "6                  44          0      2330              1             0   \n",
       "...               ...        ...       ...            ...           ...   \n",
       "575635             44          0      1404              1             0   \n",
       "575637             44          0      1405              1             0   \n",
       "575640             44          0      1407              1             0   \n",
       "575641             44          0       420              1             0   \n",
       "575642             44          0      1461              1             0   \n",
       "\n",
       "        data.len  \n",
       "0           1488  \n",
       "1           1488  \n",
       "4           1488  \n",
       "5           1488  \n",
       "6           1488  \n",
       "...          ...  \n",
       "575635       113  \n",
       "575637        60  \n",
       "575640        60  \n",
       "575641      1460  \n",
       "575642        60  \n",
       "\n",
       "[313248 rows x 76 columns]"
      ]
     },
     "execution_count": 19,
     "metadata": {},
     "output_type": "execute_result"
    }
   ],
   "source": [
    "X_test"
   ]
  },
  {
   "cell_type": "code",
   "execution_count": 20,
   "metadata": {},
   "outputs": [
    {
     "data": {
      "text/html": [
       "<div>\n",
       "<style scoped>\n",
       "    .dataframe tbody tr th:only-of-type {\n",
       "        vertical-align: middle;\n",
       "    }\n",
       "\n",
       "    .dataframe tbody tr th {\n",
       "        vertical-align: top;\n",
       "    }\n",
       "\n",
       "    .dataframe thead th {\n",
       "        text-align: right;\n",
       "    }\n",
       "</style>\n",
       "<table border=\"1\" class=\"dataframe\">\n",
       "  <thead>\n",
       "    <tr style=\"text-align: right;\">\n",
       "      <th></th>\n",
       "      <th>frame.interface_id</th>\n",
       "      <th>frame.offset_shift</th>\n",
       "      <th>frame.time_epoch</th>\n",
       "      <th>frame.time_delta</th>\n",
       "      <th>frame.time_delta_displayed</th>\n",
       "      <th>frame.time_relative</th>\n",
       "      <th>frame.len</th>\n",
       "      <th>frame.cap_len</th>\n",
       "      <th>frame.marked</th>\n",
       "      <th>frame.ignored</th>\n",
       "      <th>...</th>\n",
       "      <th>wlan.fc.pwrmgt</th>\n",
       "      <th>wlan.fc.moredata</th>\n",
       "      <th>wlan.fc.protected</th>\n",
       "      <th>wlan.fc.order</th>\n",
       "      <th>wlan.duration</th>\n",
       "      <th>wlan.frag</th>\n",
       "      <th>wlan.seq</th>\n",
       "      <th>wlan.fcs_good</th>\n",
       "      <th>wlan.wep.key</th>\n",
       "      <th>data.len</th>\n",
       "    </tr>\n",
       "  </thead>\n",
       "  <tbody>\n",
       "    <tr>\n",
       "      <th>count</th>\n",
       "      <td>313248.0</td>\n",
       "      <td>313248.0</td>\n",
       "      <td>3.132480e+05</td>\n",
       "      <td>313248.000000</td>\n",
       "      <td>313248.000000</td>\n",
       "      <td>313248.000000</td>\n",
       "      <td>313248.000000</td>\n",
       "      <td>313248.000000</td>\n",
       "      <td>313248.0</td>\n",
       "      <td>313248.0</td>\n",
       "      <td>...</td>\n",
       "      <td>313248.000000</td>\n",
       "      <td>313248.000000</td>\n",
       "      <td>313248.0</td>\n",
       "      <td>313248.0</td>\n",
       "      <td>313248.000000</td>\n",
       "      <td>313248.000000</td>\n",
       "      <td>313248.000000</td>\n",
       "      <td>313248.0</td>\n",
       "      <td>313248.000000</td>\n",
       "      <td>313248.000000</td>\n",
       "    </tr>\n",
       "    <tr>\n",
       "      <th>mean</th>\n",
       "      <td>0.0</td>\n",
       "      <td>0.0</td>\n",
       "      <td>1.393669e+09</td>\n",
       "      <td>0.001238</td>\n",
       "      <td>0.001238</td>\n",
       "      <td>419.131540</td>\n",
       "      <td>892.088681</td>\n",
       "      <td>892.088681</td>\n",
       "      <td>0.0</td>\n",
       "      <td>0.0</td>\n",
       "      <td>...</td>\n",
       "      <td>0.000354</td>\n",
       "      <td>0.008897</td>\n",
       "      <td>1.0</td>\n",
       "      <td>0.0</td>\n",
       "      <td>80.225144</td>\n",
       "      <td>0.121674</td>\n",
       "      <td>1849.670600</td>\n",
       "      <td>1.0</td>\n",
       "      <td>0.065405</td>\n",
       "      <td>828.889611</td>\n",
       "    </tr>\n",
       "    <tr>\n",
       "      <th>std</th>\n",
       "      <td>0.0</td>\n",
       "      <td>0.0</td>\n",
       "      <td>3.968335e+02</td>\n",
       "      <td>0.003632</td>\n",
       "      <td>0.003632</td>\n",
       "      <td>396.833483</td>\n",
       "      <td>713.371196</td>\n",
       "      <td>713.371196</td>\n",
       "      <td>0.0</td>\n",
       "      <td>0.0</td>\n",
       "      <td>...</td>\n",
       "      <td>0.018821</td>\n",
       "      <td>0.093904</td>\n",
       "      <td>0.0</td>\n",
       "      <td>0.0</td>\n",
       "      <td>98.175003</td>\n",
       "      <td>0.522946</td>\n",
       "      <td>1158.063441</td>\n",
       "      <td>0.0</td>\n",
       "      <td>0.250803</td>\n",
       "      <td>712.901695</td>\n",
       "    </tr>\n",
       "    <tr>\n",
       "      <th>min</th>\n",
       "      <td>0.0</td>\n",
       "      <td>0.0</td>\n",
       "      <td>1.393668e+09</td>\n",
       "      <td>0.000000</td>\n",
       "      <td>0.000000</td>\n",
       "      <td>0.000000</td>\n",
       "      <td>65.000000</td>\n",
       "      <td>65.000000</td>\n",
       "      <td>0.0</td>\n",
       "      <td>0.0</td>\n",
       "      <td>...</td>\n",
       "      <td>0.000000</td>\n",
       "      <td>0.000000</td>\n",
       "      <td>1.0</td>\n",
       "      <td>0.0</td>\n",
       "      <td>0.000000</td>\n",
       "      <td>0.000000</td>\n",
       "      <td>0.000000</td>\n",
       "      <td>1.0</td>\n",
       "      <td>0.000000</td>\n",
       "      <td>3.000000</td>\n",
       "    </tr>\n",
       "    <tr>\n",
       "      <th>25%</th>\n",
       "      <td>0.0</td>\n",
       "      <td>0.0</td>\n",
       "      <td>1.393668e+09</td>\n",
       "      <td>0.000393</td>\n",
       "      <td>0.000393</td>\n",
       "      <td>74.256986</td>\n",
       "      <td>124.000000</td>\n",
       "      <td>124.000000</td>\n",
       "      <td>0.0</td>\n",
       "      <td>0.0</td>\n",
       "      <td>...</td>\n",
       "      <td>0.000000</td>\n",
       "      <td>0.000000</td>\n",
       "      <td>1.0</td>\n",
       "      <td>0.0</td>\n",
       "      <td>44.000000</td>\n",
       "      <td>0.000000</td>\n",
       "      <td>920.000000</td>\n",
       "      <td>1.0</td>\n",
       "      <td>0.000000</td>\n",
       "      <td>60.000000</td>\n",
       "    </tr>\n",
       "    <tr>\n",
       "      <th>50%</th>\n",
       "      <td>0.0</td>\n",
       "      <td>0.0</td>\n",
       "      <td>1.393668e+09</td>\n",
       "      <td>0.000608</td>\n",
       "      <td>0.000608</td>\n",
       "      <td>255.078000</td>\n",
       "      <td>1552.000000</td>\n",
       "      <td>1552.000000</td>\n",
       "      <td>0.0</td>\n",
       "      <td>0.0</td>\n",
       "      <td>...</td>\n",
       "      <td>0.000000</td>\n",
       "      <td>0.000000</td>\n",
       "      <td>1.0</td>\n",
       "      <td>0.0</td>\n",
       "      <td>44.000000</td>\n",
       "      <td>0.000000</td>\n",
       "      <td>1646.000000</td>\n",
       "      <td>1.0</td>\n",
       "      <td>0.000000</td>\n",
       "      <td>1488.000000</td>\n",
       "    </tr>\n",
       "    <tr>\n",
       "      <th>75%</th>\n",
       "      <td>0.0</td>\n",
       "      <td>0.0</td>\n",
       "      <td>1.393669e+09</td>\n",
       "      <td>0.000965</td>\n",
       "      <td>0.000965</td>\n",
       "      <td>852.944268</td>\n",
       "      <td>1552.000000</td>\n",
       "      <td>1552.000000</td>\n",
       "      <td>0.0</td>\n",
       "      <td>0.0</td>\n",
       "      <td>...</td>\n",
       "      <td>0.000000</td>\n",
       "      <td>0.000000</td>\n",
       "      <td>1.0</td>\n",
       "      <td>0.0</td>\n",
       "      <td>44.000000</td>\n",
       "      <td>0.000000</td>\n",
       "      <td>2812.000000</td>\n",
       "      <td>1.0</td>\n",
       "      <td>0.000000</td>\n",
       "      <td>1488.000000</td>\n",
       "    </tr>\n",
       "    <tr>\n",
       "      <th>max</th>\n",
       "      <td>0.0</td>\n",
       "      <td>0.0</td>\n",
       "      <td>1.393669e+09</td>\n",
       "      <td>0.344335</td>\n",
       "      <td>0.344335</td>\n",
       "      <td>1200.289872</td>\n",
       "      <td>1570.000000</td>\n",
       "      <td>1570.000000</td>\n",
       "      <td>0.0</td>\n",
       "      <td>0.0</td>\n",
       "      <td>...</td>\n",
       "      <td>1.000000</td>\n",
       "      <td>1.000000</td>\n",
       "      <td>1.0</td>\n",
       "      <td>0.0</td>\n",
       "      <td>314.000000</td>\n",
       "      <td>11.000000</td>\n",
       "      <td>4095.000000</td>\n",
       "      <td>1.0</td>\n",
       "      <td>3.000000</td>\n",
       "      <td>1508.000000</td>\n",
       "    </tr>\n",
       "  </tbody>\n",
       "</table>\n",
       "<p>8 rows × 76 columns</p>\n",
       "</div>"
      ],
      "text/plain": [
       "       frame.interface_id  frame.offset_shift  frame.time_epoch  \\\n",
       "count            313248.0            313248.0      3.132480e+05   \n",
       "mean                  0.0                 0.0      1.393669e+09   \n",
       "std                   0.0                 0.0      3.968335e+02   \n",
       "min                   0.0                 0.0      1.393668e+09   \n",
       "25%                   0.0                 0.0      1.393668e+09   \n",
       "50%                   0.0                 0.0      1.393668e+09   \n",
       "75%                   0.0                 0.0      1.393669e+09   \n",
       "max                   0.0                 0.0      1.393669e+09   \n",
       "\n",
       "       frame.time_delta  frame.time_delta_displayed  frame.time_relative  \\\n",
       "count     313248.000000               313248.000000        313248.000000   \n",
       "mean           0.001238                    0.001238           419.131540   \n",
       "std            0.003632                    0.003632           396.833483   \n",
       "min            0.000000                    0.000000             0.000000   \n",
       "25%            0.000393                    0.000393            74.256986   \n",
       "50%            0.000608                    0.000608           255.078000   \n",
       "75%            0.000965                    0.000965           852.944268   \n",
       "max            0.344335                    0.344335          1200.289872   \n",
       "\n",
       "           frame.len  frame.cap_len  frame.marked  frame.ignored  ...  \\\n",
       "count  313248.000000  313248.000000      313248.0       313248.0  ...   \n",
       "mean      892.088681     892.088681           0.0            0.0  ...   \n",
       "std       713.371196     713.371196           0.0            0.0  ...   \n",
       "min        65.000000      65.000000           0.0            0.0  ...   \n",
       "25%       124.000000     124.000000           0.0            0.0  ...   \n",
       "50%      1552.000000    1552.000000           0.0            0.0  ...   \n",
       "75%      1552.000000    1552.000000           0.0            0.0  ...   \n",
       "max      1570.000000    1570.000000           0.0            0.0  ...   \n",
       "\n",
       "       wlan.fc.pwrmgt  wlan.fc.moredata  wlan.fc.protected  wlan.fc.order  \\\n",
       "count   313248.000000     313248.000000           313248.0       313248.0   \n",
       "mean         0.000354          0.008897                1.0            0.0   \n",
       "std          0.018821          0.093904                0.0            0.0   \n",
       "min          0.000000          0.000000                1.0            0.0   \n",
       "25%          0.000000          0.000000                1.0            0.0   \n",
       "50%          0.000000          0.000000                1.0            0.0   \n",
       "75%          0.000000          0.000000                1.0            0.0   \n",
       "max          1.000000          1.000000                1.0            0.0   \n",
       "\n",
       "       wlan.duration      wlan.frag       wlan.seq  wlan.fcs_good  \\\n",
       "count  313248.000000  313248.000000  313248.000000       313248.0   \n",
       "mean       80.225144       0.121674    1849.670600            1.0   \n",
       "std        98.175003       0.522946    1158.063441            0.0   \n",
       "min         0.000000       0.000000       0.000000            1.0   \n",
       "25%        44.000000       0.000000     920.000000            1.0   \n",
       "50%        44.000000       0.000000    1646.000000            1.0   \n",
       "75%        44.000000       0.000000    2812.000000            1.0   \n",
       "max       314.000000      11.000000    4095.000000            1.0   \n",
       "\n",
       "        wlan.wep.key       data.len  \n",
       "count  313248.000000  313248.000000  \n",
       "mean        0.065405     828.889611  \n",
       "std         0.250803     712.901695  \n",
       "min         0.000000       3.000000  \n",
       "25%         0.000000      60.000000  \n",
       "50%         0.000000    1488.000000  \n",
       "75%         0.000000    1488.000000  \n",
       "max         3.000000    1508.000000  \n",
       "\n",
       "[8 rows x 76 columns]"
      ]
     },
     "execution_count": 20,
     "metadata": {},
     "output_type": "execute_result"
    }
   ],
   "source": [
    "X_test.describe()"
   ]
  },
  {
   "cell_type": "code",
   "execution_count": 21,
   "metadata": {},
   "outputs": [
    {
     "data": {
      "text/plain": [
       "class\n",
       "normal           277960\n",
       "impersonation     18606\n",
       "injection         16682\n",
       "Name: count, dtype: int64"
      ]
     },
     "execution_count": 21,
     "metadata": {},
     "output_type": "execute_result"
    }
   ],
   "source": [
    "y_test.value_counts()"
   ]
  },
  {
   "cell_type": "markdown",
   "metadata": {},
   "source": [
    "<h2>Preprocessing and Feature Scaling   </h2> "
   ]
  },
  {
   "cell_type": "code",
   "execution_count": 22,
   "metadata": {},
   "outputs": [],
   "source": [
    "sc=StandardScaler()\n",
    "sc.fit(X_train)\n",
    "scaled_X_train=sc.transform(X_train)\n",
    "\n",
    "sc1=StandardScaler()\n",
    "sc1.fit(X_test)\n",
    "scaled_X_test=sc1.transform(X_test)"
   ]
  },
  {
   "cell_type": "code",
   "execution_count": 23,
   "metadata": {},
   "outputs": [
    {
     "data": {
      "text/html": [
       "<div>\n",
       "<style scoped>\n",
       "    .dataframe tbody tr th:only-of-type {\n",
       "        vertical-align: middle;\n",
       "    }\n",
       "\n",
       "    .dataframe tbody tr th {\n",
       "        vertical-align: top;\n",
       "    }\n",
       "\n",
       "    .dataframe thead th {\n",
       "        text-align: right;\n",
       "    }\n",
       "</style>\n",
       "<table border=\"1\" class=\"dataframe\">\n",
       "  <thead>\n",
       "    <tr style=\"text-align: right;\">\n",
       "      <th></th>\n",
       "      <th>frame.interface_id</th>\n",
       "      <th>frame.offset_shift</th>\n",
       "      <th>frame.time_epoch</th>\n",
       "      <th>frame.time_delta</th>\n",
       "      <th>frame.time_delta_displayed</th>\n",
       "      <th>frame.time_relative</th>\n",
       "      <th>frame.len</th>\n",
       "      <th>frame.cap_len</th>\n",
       "      <th>frame.marked</th>\n",
       "      <th>frame.ignored</th>\n",
       "      <th>...</th>\n",
       "      <th>wlan.fc.pwrmgt</th>\n",
       "      <th>wlan.fc.moredata</th>\n",
       "      <th>wlan.fc.protected</th>\n",
       "      <th>wlan.fc.order</th>\n",
       "      <th>wlan.duration</th>\n",
       "      <th>wlan.frag</th>\n",
       "      <th>wlan.seq</th>\n",
       "      <th>wlan.fcs_good</th>\n",
       "      <th>wlan.wep.key</th>\n",
       "      <th>data.len</th>\n",
       "    </tr>\n",
       "  </thead>\n",
       "  <tbody>\n",
       "    <tr>\n",
       "      <th>17</th>\n",
       "      <td>0</td>\n",
       "      <td>0.0</td>\n",
       "      <td>1.393661e+09</td>\n",
       "      <td>0.002270</td>\n",
       "      <td>0.002270</td>\n",
       "      <td>0.217518</td>\n",
       "      <td>1524</td>\n",
       "      <td>1524</td>\n",
       "      <td>0</td>\n",
       "      <td>0</td>\n",
       "      <td>...</td>\n",
       "      <td>0</td>\n",
       "      <td>0</td>\n",
       "      <td>1</td>\n",
       "      <td>0</td>\n",
       "      <td>44</td>\n",
       "      <td>0</td>\n",
       "      <td>96</td>\n",
       "      <td>1</td>\n",
       "      <td>0</td>\n",
       "      <td>1460</td>\n",
       "    </tr>\n",
       "    <tr>\n",
       "      <th>18</th>\n",
       "      <td>0</td>\n",
       "      <td>0.0</td>\n",
       "      <td>1.393661e+09</td>\n",
       "      <td>0.000621</td>\n",
       "      <td>0.000621</td>\n",
       "      <td>0.218139</td>\n",
       "      <td>124</td>\n",
       "      <td>124</td>\n",
       "      <td>0</td>\n",
       "      <td>0</td>\n",
       "      <td>...</td>\n",
       "      <td>0</td>\n",
       "      <td>0</td>\n",
       "      <td>1</td>\n",
       "      <td>0</td>\n",
       "      <td>44</td>\n",
       "      <td>0</td>\n",
       "      <td>1217</td>\n",
       "      <td>1</td>\n",
       "      <td>0</td>\n",
       "      <td>60</td>\n",
       "    </tr>\n",
       "    <tr>\n",
       "      <th>20</th>\n",
       "      <td>0</td>\n",
       "      <td>0.0</td>\n",
       "      <td>1.393661e+09</td>\n",
       "      <td>0.000144</td>\n",
       "      <td>0.000144</td>\n",
       "      <td>0.229118</td>\n",
       "      <td>153</td>\n",
       "      <td>153</td>\n",
       "      <td>0</td>\n",
       "      <td>0</td>\n",
       "      <td>...</td>\n",
       "      <td>0</td>\n",
       "      <td>0</td>\n",
       "      <td>1</td>\n",
       "      <td>0</td>\n",
       "      <td>44</td>\n",
       "      <td>0</td>\n",
       "      <td>97</td>\n",
       "      <td>1</td>\n",
       "      <td>0</td>\n",
       "      <td>89</td>\n",
       "    </tr>\n",
       "    <tr>\n",
       "      <th>28</th>\n",
       "      <td>0</td>\n",
       "      <td>0.0</td>\n",
       "      <td>1.393661e+09</td>\n",
       "      <td>0.021711</td>\n",
       "      <td>0.021711</td>\n",
       "      <td>0.367359</td>\n",
       "      <td>124</td>\n",
       "      <td>124</td>\n",
       "      <td>0</td>\n",
       "      <td>0</td>\n",
       "      <td>...</td>\n",
       "      <td>0</td>\n",
       "      <td>0</td>\n",
       "      <td>1</td>\n",
       "      <td>0</td>\n",
       "      <td>44</td>\n",
       "      <td>0</td>\n",
       "      <td>1220</td>\n",
       "      <td>1</td>\n",
       "      <td>0</td>\n",
       "      <td>60</td>\n",
       "    </tr>\n",
       "    <tr>\n",
       "      <th>31</th>\n",
       "      <td>0</td>\n",
       "      <td>0.0</td>\n",
       "      <td>1.393661e+09</td>\n",
       "      <td>0.000058</td>\n",
       "      <td>0.000058</td>\n",
       "      <td>0.380933</td>\n",
       "      <td>124</td>\n",
       "      <td>124</td>\n",
       "      <td>0</td>\n",
       "      <td>0</td>\n",
       "      <td>...</td>\n",
       "      <td>0</td>\n",
       "      <td>0</td>\n",
       "      <td>1</td>\n",
       "      <td>0</td>\n",
       "      <td>44</td>\n",
       "      <td>0</td>\n",
       "      <td>99</td>\n",
       "      <td>1</td>\n",
       "      <td>0</td>\n",
       "      <td>60</td>\n",
       "    </tr>\n",
       "    <tr>\n",
       "      <th>...</th>\n",
       "      <td>...</td>\n",
       "      <td>...</td>\n",
       "      <td>...</td>\n",
       "      <td>...</td>\n",
       "      <td>...</td>\n",
       "      <td>...</td>\n",
       "      <td>...</td>\n",
       "      <td>...</td>\n",
       "      <td>...</td>\n",
       "      <td>...</td>\n",
       "      <td>...</td>\n",
       "      <td>...</td>\n",
       "      <td>...</td>\n",
       "      <td>...</td>\n",
       "      <td>...</td>\n",
       "      <td>...</td>\n",
       "      <td>...</td>\n",
       "      <td>...</td>\n",
       "      <td>...</td>\n",
       "      <td>...</td>\n",
       "      <td>...</td>\n",
       "    </tr>\n",
       "    <tr>\n",
       "      <th>1795504</th>\n",
       "      <td>0</td>\n",
       "      <td>0.0</td>\n",
       "      <td>1.393665e+09</td>\n",
       "      <td>0.015341</td>\n",
       "      <td>0.015341</td>\n",
       "      <td>3599.043342</td>\n",
       "      <td>112</td>\n",
       "      <td>112</td>\n",
       "      <td>0</td>\n",
       "      <td>0</td>\n",
       "      <td>...</td>\n",
       "      <td>0</td>\n",
       "      <td>0</td>\n",
       "      <td>1</td>\n",
       "      <td>0</td>\n",
       "      <td>48</td>\n",
       "      <td>0</td>\n",
       "      <td>2608</td>\n",
       "      <td>1</td>\n",
       "      <td>0</td>\n",
       "      <td>48</td>\n",
       "    </tr>\n",
       "    <tr>\n",
       "      <th>1795511</th>\n",
       "      <td>0</td>\n",
       "      <td>0.0</td>\n",
       "      <td>1.393665e+09</td>\n",
       "      <td>0.013841</td>\n",
       "      <td>0.013841</td>\n",
       "      <td>3599.086311</td>\n",
       "      <td>112</td>\n",
       "      <td>112</td>\n",
       "      <td>0</td>\n",
       "      <td>0</td>\n",
       "      <td>...</td>\n",
       "      <td>0</td>\n",
       "      <td>0</td>\n",
       "      <td>1</td>\n",
       "      <td>0</td>\n",
       "      <td>48</td>\n",
       "      <td>0</td>\n",
       "      <td>2609</td>\n",
       "      <td>1</td>\n",
       "      <td>0</td>\n",
       "      <td>48</td>\n",
       "    </tr>\n",
       "    <tr>\n",
       "      <th>1795551</th>\n",
       "      <td>0</td>\n",
       "      <td>0.0</td>\n",
       "      <td>1.393665e+09</td>\n",
       "      <td>0.000421</td>\n",
       "      <td>0.000421</td>\n",
       "      <td>3599.323495</td>\n",
       "      <td>1524</td>\n",
       "      <td>1524</td>\n",
       "      <td>0</td>\n",
       "      <td>0</td>\n",
       "      <td>...</td>\n",
       "      <td>0</td>\n",
       "      <td>0</td>\n",
       "      <td>1</td>\n",
       "      <td>0</td>\n",
       "      <td>44</td>\n",
       "      <td>0</td>\n",
       "      <td>0</td>\n",
       "      <td>1</td>\n",
       "      <td>0</td>\n",
       "      <td>1460</td>\n",
       "    </tr>\n",
       "    <tr>\n",
       "      <th>1795556</th>\n",
       "      <td>0</td>\n",
       "      <td>0.0</td>\n",
       "      <td>1.393665e+09</td>\n",
       "      <td>0.001861</td>\n",
       "      <td>0.001861</td>\n",
       "      <td>3599.375225</td>\n",
       "      <td>1523</td>\n",
       "      <td>1523</td>\n",
       "      <td>0</td>\n",
       "      <td>0</td>\n",
       "      <td>...</td>\n",
       "      <td>0</td>\n",
       "      <td>0</td>\n",
       "      <td>1</td>\n",
       "      <td>0</td>\n",
       "      <td>44</td>\n",
       "      <td>0</td>\n",
       "      <td>1</td>\n",
       "      <td>1</td>\n",
       "      <td>0</td>\n",
       "      <td>1459</td>\n",
       "    </tr>\n",
       "    <tr>\n",
       "      <th>1795561</th>\n",
       "      <td>0</td>\n",
       "      <td>0.0</td>\n",
       "      <td>1.393665e+09</td>\n",
       "      <td>0.000267</td>\n",
       "      <td>0.000267</td>\n",
       "      <td>3599.425846</td>\n",
       "      <td>440</td>\n",
       "      <td>440</td>\n",
       "      <td>0</td>\n",
       "      <td>0</td>\n",
       "      <td>...</td>\n",
       "      <td>0</td>\n",
       "      <td>0</td>\n",
       "      <td>1</td>\n",
       "      <td>0</td>\n",
       "      <td>44</td>\n",
       "      <td>0</td>\n",
       "      <td>729</td>\n",
       "      <td>1</td>\n",
       "      <td>0</td>\n",
       "      <td>376</td>\n",
       "    </tr>\n",
       "  </tbody>\n",
       "</table>\n",
       "<p>885744 rows × 76 columns</p>\n",
       "</div>"
      ],
      "text/plain": [
       "         frame.interface_id  frame.offset_shift  frame.time_epoch  \\\n",
       "17                        0                 0.0      1.393661e+09   \n",
       "18                        0                 0.0      1.393661e+09   \n",
       "20                        0                 0.0      1.393661e+09   \n",
       "28                        0                 0.0      1.393661e+09   \n",
       "31                        0                 0.0      1.393661e+09   \n",
       "...                     ...                 ...               ...   \n",
       "1795504                   0                 0.0      1.393665e+09   \n",
       "1795511                   0                 0.0      1.393665e+09   \n",
       "1795551                   0                 0.0      1.393665e+09   \n",
       "1795556                   0                 0.0      1.393665e+09   \n",
       "1795561                   0                 0.0      1.393665e+09   \n",
       "\n",
       "         frame.time_delta  frame.time_delta_displayed  frame.time_relative  \\\n",
       "17               0.002270                    0.002270             0.217518   \n",
       "18               0.000621                    0.000621             0.218139   \n",
       "20               0.000144                    0.000144             0.229118   \n",
       "28               0.021711                    0.021711             0.367359   \n",
       "31               0.000058                    0.000058             0.380933   \n",
       "...                   ...                         ...                  ...   \n",
       "1795504          0.015341                    0.015341          3599.043342   \n",
       "1795511          0.013841                    0.013841          3599.086311   \n",
       "1795551          0.000421                    0.000421          3599.323495   \n",
       "1795556          0.001861                    0.001861          3599.375225   \n",
       "1795561          0.000267                    0.000267          3599.425846   \n",
       "\n",
       "         frame.len  frame.cap_len  frame.marked  frame.ignored  ...  \\\n",
       "17            1524           1524             0              0  ...   \n",
       "18             124            124             0              0  ...   \n",
       "20             153            153             0              0  ...   \n",
       "28             124            124             0              0  ...   \n",
       "31             124            124             0              0  ...   \n",
       "...            ...            ...           ...            ...  ...   \n",
       "1795504        112            112             0              0  ...   \n",
       "1795511        112            112             0              0  ...   \n",
       "1795551       1524           1524             0              0  ...   \n",
       "1795556       1523           1523             0              0  ...   \n",
       "1795561        440            440             0              0  ...   \n",
       "\n",
       "         wlan.fc.pwrmgt  wlan.fc.moredata  wlan.fc.protected  wlan.fc.order  \\\n",
       "17                    0                 0                  1              0   \n",
       "18                    0                 0                  1              0   \n",
       "20                    0                 0                  1              0   \n",
       "28                    0                 0                  1              0   \n",
       "31                    0                 0                  1              0   \n",
       "...                 ...               ...                ...            ...   \n",
       "1795504               0                 0                  1              0   \n",
       "1795511               0                 0                  1              0   \n",
       "1795551               0                 0                  1              0   \n",
       "1795556               0                 0                  1              0   \n",
       "1795561               0                 0                  1              0   \n",
       "\n",
       "         wlan.duration  wlan.frag  wlan.seq  wlan.fcs_good  wlan.wep.key  \\\n",
       "17                  44          0        96              1             0   \n",
       "18                  44          0      1217              1             0   \n",
       "20                  44          0        97              1             0   \n",
       "28                  44          0      1220              1             0   \n",
       "31                  44          0        99              1             0   \n",
       "...                ...        ...       ...            ...           ...   \n",
       "1795504             48          0      2608              1             0   \n",
       "1795511             48          0      2609              1             0   \n",
       "1795551             44          0         0              1             0   \n",
       "1795556             44          0         1              1             0   \n",
       "1795561             44          0       729              1             0   \n",
       "\n",
       "         data.len  \n",
       "17           1460  \n",
       "18             60  \n",
       "20             89  \n",
       "28             60  \n",
       "31             60  \n",
       "...           ...  \n",
       "1795504        48  \n",
       "1795511        48  \n",
       "1795551      1460  \n",
       "1795556      1459  \n",
       "1795561       376  \n",
       "\n",
       "[885744 rows x 76 columns]"
      ]
     },
     "execution_count": 23,
     "metadata": {},
     "output_type": "execute_result"
    }
   ],
   "source": [
    "X_train"
   ]
  },
  {
   "cell_type": "code",
   "execution_count": 24,
   "metadata": {},
   "outputs": [
    {
     "name": "stdout",
     "output_type": "stream",
     "text": [
      "frame.interface_id              int64\n",
      "frame.offset_shift            float64\n",
      "frame.time_epoch              float64\n",
      "frame.time_delta              float64\n",
      "frame.time_delta_displayed    float64\n",
      "                               ...   \n",
      "wlan.frag                       int64\n",
      "wlan.seq                        int64\n",
      "wlan.fcs_good                   int64\n",
      "wlan.wep.key                    int64\n",
      "data.len                        int64\n",
      "Length: 76, dtype: object\n"
     ]
    }
   ],
   "source": [
    "\n",
    "print(X_train.dtypes)"
   ]
  },
  {
   "cell_type": "code",
   "execution_count": 25,
   "metadata": {},
   "outputs": [
    {
     "name": "stdout",
     "output_type": "stream",
     "text": [
      "[[ 0.          0.         -2.16853389 ...  0.         -0.18997616\n",
      "   0.79605402]\n",
      " [ 0.          0.         -2.16853315 ...  0.         -0.18997616\n",
      "  -1.20725951]\n",
      " [ 0.          0.         -2.16851995 ...  0.         -0.18997616\n",
      "  -1.1657623 ]\n",
      " ...\n",
      " [ 0.          0.          2.15675522 ...  0.         -0.18997616\n",
      "   0.79605402]\n",
      " [ 0.          0.          2.15681739 ...  0.         -0.18997616\n",
      "   0.79462309]\n",
      " [ 0.          0.          2.15687823 ...  0.         -0.18997616\n",
      "  -0.75508302]]\n",
      "float64\n"
     ]
    }
   ],
   "source": [
    "print(scaled_X_train)\n",
    "print(scaled_X_train.dtype)\n"
   ]
  },
  {
   "cell_type": "markdown",
   "metadata": {},
   "source": [
    "<h2>Encoding the label data</h2>"
   ]
  },
  {
   "cell_type": "code",
   "execution_count": 26,
   "metadata": {},
   "outputs": [],
   "source": [
    "encoder = LabelEncoder()\n",
    "encoded_y=encoder.fit_transform(y_train)\n",
    "enc_y_test=encoder.fit_transform(y_test)"
   ]
  },
  {
   "cell_type": "code",
   "execution_count": 27,
   "metadata": {},
   "outputs": [
    {
     "data": {
      "text/plain": [
       "array(['impersonation', 'injection', 'normal'], dtype=object)"
      ]
     },
     "execution_count": 27,
     "metadata": {},
     "output_type": "execute_result"
    }
   ],
   "source": [
    "encoder.classes_"
   ]
  },
  {
   "cell_type": "code",
   "execution_count": 28,
   "metadata": {},
   "outputs": [
    {
     "data": {
      "text/plain": [
       "array([2, 2, 2, ..., 2, 2, 2])"
      ]
     },
     "execution_count": 28,
     "metadata": {},
     "output_type": "execute_result"
    }
   ],
   "source": [
    "enc_y_test"
   ]
  },
  {
   "cell_type": "markdown",
   "metadata": {},
   "source": [
    "<h2>Changing it to Categorical </h2>"
   ]
  },
  {
   "cell_type": "code",
   "execution_count": 29,
   "metadata": {},
   "outputs": [
    {
     "data": {
      "text/plain": [
       "array([[0., 0., 1.],\n",
       "       [0., 0., 1.],\n",
       "       [0., 0., 1.],\n",
       "       ...,\n",
       "       [0., 0., 1.],\n",
       "       [0., 0., 1.],\n",
       "       [0., 0., 1.]])"
      ]
     },
     "execution_count": 29,
     "metadata": {},
     "output_type": "execute_result"
    }
   ],
   "source": [
    "cat_y_train=to_categorical(encoded_y)\n",
    "cat_y_train"
   ]
  },
  {
   "cell_type": "code",
   "execution_count": 30,
   "metadata": {},
   "outputs": [
    {
     "data": {
      "text/plain": [
       "array([[0., 0., 1.],\n",
       "       [0., 0., 1.],\n",
       "       [0., 0., 1.],\n",
       "       ...,\n",
       "       [0., 0., 1.],\n",
       "       [0., 0., 1.],\n",
       "       [0., 0., 1.]])"
      ]
     },
     "execution_count": 30,
     "metadata": {},
     "output_type": "execute_result"
    }
   ],
   "source": [
    "cat_y_test=to_categorical(enc_y_test)\n",
    "cat_y_test"
   ]
  },
  {
   "cell_type": "markdown",
   "metadata": {},
   "source": [
    "<h2>DNN for Multiclass Classification </h2>"
   ]
  },
  {
   "cell_type": "code",
   "execution_count": 31,
   "metadata": {},
   "outputs": [
    {
     "name": "stderr",
     "output_type": "stream",
     "text": [
      "/home/sriramchinmay/miniforge3/envs/workstation/lib/python3.11/site-packages/keras/src/layers/core/dense.py:93: UserWarning: Do not pass an `input_shape`/`input_dim` argument to a layer. When using Sequential models, prefer using an `Input(shape)` object as the first layer in the model instead.\n",
      "  super().__init__(activity_regularizer=activity_regularizer, **kwargs)\n",
      "2025-10-28 13:49:37.439101: E external/local_xla/xla/stream_executor/cuda/cuda_platform.cc:51] failed call to cuInit: INTERNAL: CUDA error: Failed call to cuInit: UNKNOWN ERROR (303)\n",
      "2025-10-28 13:49:37.439129: I external/local_xla/xla/stream_executor/cuda/cuda_diagnostics.cc:178] verbose logging is disabled. Rerun with verbose logging (usually --v=1 or --vmodule=cuda_diagnostics=1) to get more diagnostic output from this module\n",
      "2025-10-28 13:49:37.439134: I external/local_xla/xla/stream_executor/cuda/cuda_diagnostics.cc:183] retrieving CUDA diagnostic information for host: PappuChaaru\n",
      "2025-10-28 13:49:37.439136: I external/local_xla/xla/stream_executor/cuda/cuda_diagnostics.cc:190] hostname: PappuChaaru\n",
      "2025-10-28 13:49:37.439234: I external/local_xla/xla/stream_executor/cuda/cuda_diagnostics.cc:197] libcuda reported version is: NOT_FOUND: was unable to find libcuda.so DSO loaded into this program. The library may be missing or provided via another object.\n",
      "2025-10-28 13:49:37.439253: I external/local_xla/xla/stream_executor/cuda/cuda_diagnostics.cc:201] kernel reported version is: 580.82.9\n"
     ]
    },
    {
     "data": {
      "text/html": [
       "<pre style=\"white-space:pre;overflow-x:auto;line-height:normal;font-family:Menlo,'DejaVu Sans Mono',consolas,'Courier New',monospace\"><span style=\"font-weight: bold\">Model: \"sequential\"</span>\n",
       "</pre>\n"
      ],
      "text/plain": [
       "\u001b[1mModel: \"sequential\"\u001b[0m\n"
      ]
     },
     "metadata": {},
     "output_type": "display_data"
    },
    {
     "data": {
      "text/html": [
       "<pre style=\"white-space:pre;overflow-x:auto;line-height:normal;font-family:Menlo,'DejaVu Sans Mono',consolas,'Courier New',monospace\">┏━━━━━━━━━━━━━━━━━━━━━━━━━━━━━━━━━┳━━━━━━━━━━━━━━━━━━━━━━━━┳━━━━━━━━━━━━━━━┓\n",
       "┃<span style=\"font-weight: bold\"> Layer (type)                    </span>┃<span style=\"font-weight: bold\"> Output Shape           </span>┃<span style=\"font-weight: bold\">       Param # </span>┃\n",
       "┡━━━━━━━━━━━━━━━━━━━━━━━━━━━━━━━━━╇━━━━━━━━━━━━━━━━━━━━━━━━╇━━━━━━━━━━━━━━━┩\n",
       "│ dense (<span style=\"color: #0087ff; text-decoration-color: #0087ff\">Dense</span>)                   │ (<span style=\"color: #00d7ff; text-decoration-color: #00d7ff\">None</span>, <span style=\"color: #00af00; text-decoration-color: #00af00\">10</span>)             │           <span style=\"color: #00af00; text-decoration-color: #00af00\">770</span> │\n",
       "├─────────────────────────────────┼────────────────────────┼───────────────┤\n",
       "│ dropout (<span style=\"color: #0087ff; text-decoration-color: #0087ff\">Dropout</span>)               │ (<span style=\"color: #00d7ff; text-decoration-color: #00d7ff\">None</span>, <span style=\"color: #00af00; text-decoration-color: #00af00\">10</span>)             │             <span style=\"color: #00af00; text-decoration-color: #00af00\">0</span> │\n",
       "├─────────────────────────────────┼────────────────────────┼───────────────┤\n",
       "│ dense_1 (<span style=\"color: #0087ff; text-decoration-color: #0087ff\">Dense</span>)                 │ (<span style=\"color: #00d7ff; text-decoration-color: #00d7ff\">None</span>, <span style=\"color: #00af00; text-decoration-color: #00af00\">20</span>)             │           <span style=\"color: #00af00; text-decoration-color: #00af00\">220</span> │\n",
       "├─────────────────────────────────┼────────────────────────┼───────────────┤\n",
       "│ dropout_1 (<span style=\"color: #0087ff; text-decoration-color: #0087ff\">Dropout</span>)             │ (<span style=\"color: #00d7ff; text-decoration-color: #00d7ff\">None</span>, <span style=\"color: #00af00; text-decoration-color: #00af00\">20</span>)             │             <span style=\"color: #00af00; text-decoration-color: #00af00\">0</span> │\n",
       "├─────────────────────────────────┼────────────────────────┼───────────────┤\n",
       "│ dense_2 (<span style=\"color: #0087ff; text-decoration-color: #0087ff\">Dense</span>)                 │ (<span style=\"color: #00d7ff; text-decoration-color: #00d7ff\">None</span>, <span style=\"color: #00af00; text-decoration-color: #00af00\">3</span>)              │            <span style=\"color: #00af00; text-decoration-color: #00af00\">63</span> │\n",
       "└─────────────────────────────────┴────────────────────────┴───────────────┘\n",
       "</pre>\n"
      ],
      "text/plain": [
       "┏━━━━━━━━━━━━━━━━━━━━━━━━━━━━━━━━━┳━━━━━━━━━━━━━━━━━━━━━━━━┳━━━━━━━━━━━━━━━┓\n",
       "┃\u001b[1m \u001b[0m\u001b[1mLayer (type)                   \u001b[0m\u001b[1m \u001b[0m┃\u001b[1m \u001b[0m\u001b[1mOutput Shape          \u001b[0m\u001b[1m \u001b[0m┃\u001b[1m \u001b[0m\u001b[1m      Param #\u001b[0m\u001b[1m \u001b[0m┃\n",
       "┡━━━━━━━━━━━━━━━━━━━━━━━━━━━━━━━━━╇━━━━━━━━━━━━━━━━━━━━━━━━╇━━━━━━━━━━━━━━━┩\n",
       "│ dense (\u001b[38;5;33mDense\u001b[0m)                   │ (\u001b[38;5;45mNone\u001b[0m, \u001b[38;5;34m10\u001b[0m)             │           \u001b[38;5;34m770\u001b[0m │\n",
       "├─────────────────────────────────┼────────────────────────┼───────────────┤\n",
       "│ dropout (\u001b[38;5;33mDropout\u001b[0m)               │ (\u001b[38;5;45mNone\u001b[0m, \u001b[38;5;34m10\u001b[0m)             │             \u001b[38;5;34m0\u001b[0m │\n",
       "├─────────────────────────────────┼────────────────────────┼───────────────┤\n",
       "│ dense_1 (\u001b[38;5;33mDense\u001b[0m)                 │ (\u001b[38;5;45mNone\u001b[0m, \u001b[38;5;34m20\u001b[0m)             │           \u001b[38;5;34m220\u001b[0m │\n",
       "├─────────────────────────────────┼────────────────────────┼───────────────┤\n",
       "│ dropout_1 (\u001b[38;5;33mDropout\u001b[0m)             │ (\u001b[38;5;45mNone\u001b[0m, \u001b[38;5;34m20\u001b[0m)             │             \u001b[38;5;34m0\u001b[0m │\n",
       "├─────────────────────────────────┼────────────────────────┼───────────────┤\n",
       "│ dense_2 (\u001b[38;5;33mDense\u001b[0m)                 │ (\u001b[38;5;45mNone\u001b[0m, \u001b[38;5;34m3\u001b[0m)              │            \u001b[38;5;34m63\u001b[0m │\n",
       "└─────────────────────────────────┴────────────────────────┴───────────────┘\n"
      ]
     },
     "metadata": {},
     "output_type": "display_data"
    },
    {
     "data": {
      "text/html": [
       "<pre style=\"white-space:pre;overflow-x:auto;line-height:normal;font-family:Menlo,'DejaVu Sans Mono',consolas,'Courier New',monospace\"><span style=\"font-weight: bold\"> Total params: </span><span style=\"color: #00af00; text-decoration-color: #00af00\">1,053</span> (4.11 KB)\n",
       "</pre>\n"
      ],
      "text/plain": [
       "\u001b[1m Total params: \u001b[0m\u001b[38;5;34m1,053\u001b[0m (4.11 KB)\n"
      ]
     },
     "metadata": {},
     "output_type": "display_data"
    },
    {
     "data": {
      "text/html": [
       "<pre style=\"white-space:pre;overflow-x:auto;line-height:normal;font-family:Menlo,'DejaVu Sans Mono',consolas,'Courier New',monospace\"><span style=\"font-weight: bold\"> Trainable params: </span><span style=\"color: #00af00; text-decoration-color: #00af00\">1,053</span> (4.11 KB)\n",
       "</pre>\n"
      ],
      "text/plain": [
       "\u001b[1m Trainable params: \u001b[0m\u001b[38;5;34m1,053\u001b[0m (4.11 KB)\n"
      ]
     },
     "metadata": {},
     "output_type": "display_data"
    },
    {
     "data": {
      "text/html": [
       "<pre style=\"white-space:pre;overflow-x:auto;line-height:normal;font-family:Menlo,'DejaVu Sans Mono',consolas,'Courier New',monospace\"><span style=\"font-weight: bold\"> Non-trainable params: </span><span style=\"color: #00af00; text-decoration-color: #00af00\">0</span> (0.00 B)\n",
       "</pre>\n"
      ],
      "text/plain": [
       "\u001b[1m Non-trainable params: \u001b[0m\u001b[38;5;34m0\u001b[0m (0.00 B)\n"
      ]
     },
     "metadata": {},
     "output_type": "display_data"
    }
   ],
   "source": [
    "#Neural Network(Multiclass/Categorical Crossentropy)\n",
    "model2 = Sequential()\n",
    "model2.add(Dense(10, input_shape=(scaled_X_train.shape[1],), activation='relu'))\n",
    "model2.add(Dropout(0.3))\n",
    "model2.add(Dense(20, activation='relu'))\n",
    "model2.add(Dropout(0.3))\n",
    "model2.add(Dense(3, activation='softmax'))\n",
    "\n",
    "model2.compile(loss='categorical_crossentropy', optimizer ='adam', metrics=['accuracy'])\n",
    "model2.summary()"
   ]
  },
  {
   "cell_type": "code",
   "execution_count": 32,
   "metadata": {},
   "outputs": [],
   "source": [
    "from keras.callbacks import EarlyStopping\n",
    "\n",
    "earlystop = EarlyStopping(monitor = 'val_loss', min_delta = 0,\n",
    "                          patience = 3, verbose = 1, restore_best_weights = True)"
   ]
  },
  {
   "cell_type": "code",
   "execution_count": 33,
   "metadata": {},
   "outputs": [
    {
     "name": "stdout",
     "output_type": "stream",
     "text": [
      "Epoch 1/15\n",
      "\u001b[1m1557/1557\u001b[0m \u001b[32m━━━━━━━━━━━━━━━━━━━━\u001b[0m\u001b[37m\u001b[0m \u001b[1m3s\u001b[0m 2ms/step - accuracy: 0.9183 - loss: 0.2427 - val_accuracy: 0.9603 - val_loss: 0.2138\n",
      "Epoch 2/15\n",
      "\u001b[1m1557/1557\u001b[0m \u001b[32m━━━━━━━━━━━━━━━━━━━━\u001b[0m\u001b[37m\u001b[0m \u001b[1m2s\u001b[0m 1ms/step - accuracy: 0.9838 - loss: 0.0386 - val_accuracy: 0.9664 - val_loss: 0.2627\n",
      "Epoch 3/15\n",
      "\u001b[1m1557/1557\u001b[0m \u001b[32m━━━━━━━━━━━━━━━━━━━━\u001b[0m\u001b[37m\u001b[0m \u001b[1m2s\u001b[0m 2ms/step - accuracy: 0.9878 - loss: 0.0275 - val_accuracy: 0.9700 - val_loss: 0.2320\n",
      "Epoch 4/15\n",
      "\u001b[1m1557/1557\u001b[0m \u001b[32m━━━━━━━━━━━━━━━━━━━━\u001b[0m\u001b[37m\u001b[0m \u001b[1m2s\u001b[0m 1ms/step - accuracy: 0.9901 - loss: 0.0211 - val_accuracy: 0.9701 - val_loss: 0.2300\n",
      "Epoch 4: early stopping\n",
      "Restoring model weights from the end of the best epoch: 1.\n"
     ]
    }
   ],
   "source": [
    "hist=model2.fit(scaled_X_train,cat_y_train,batch_size=512,validation_split=0.1,\n",
    "               callbacks=[earlystop],epochs=15, verbose=1)"
   ]
  },
  {
   "cell_type": "code",
   "execution_count": 34,
   "metadata": {},
   "outputs": [
    {
     "name": "stdout",
     "output_type": "stream",
     "text": [
      "\u001b[1m27680/27680\u001b[0m \u001b[32m━━━━━━━━━━━━━━━━━━━━\u001b[0m\u001b[37m\u001b[0m \u001b[1m22s\u001b[0m 784us/step - accuracy: 0.9993 - loss: 0.0038\n"
     ]
    }
   ],
   "source": [
    "loss, accuracy=model2.evaluate(scaled_X_train, cat_y_train)"
   ]
  },
  {
   "cell_type": "code",
   "execution_count": 35,
   "metadata": {},
   "outputs": [
    {
     "data": {
      "text/plain": [
       "0.9951125979423523"
      ]
     },
     "execution_count": 35,
     "metadata": {},
     "output_type": "execute_result"
    }
   ],
   "source": [
    "accuracy"
   ]
  },
  {
   "cell_type": "code",
   "execution_count": 36,
   "metadata": {},
   "outputs": [
    {
     "name": "stdout",
     "output_type": "stream",
     "text": [
      "\u001b[1m9789/9789\u001b[0m \u001b[32m━━━━━━━━━━━━━━━━━━━━\u001b[0m\u001b[37m\u001b[0m \u001b[1m10s\u001b[0m 986us/step - accuracy: 0.9848 - loss: 0.1240\n"
     ]
    }
   ],
   "source": [
    "model2_loss, model2_accuracy = model2.evaluate(scaled_X_test,cat_y_test)"
   ]
  },
  {
   "cell_type": "code",
   "execution_count": 37,
   "metadata": {},
   "outputs": [
    {
     "name": "stdout",
     "output_type": "stream",
     "text": [
      "Loss :0.6778714656829834,\n",
      "Accuracy of DNN 2 : 0.9180713295936584\n"
     ]
    }
   ],
   "source": [
    "print('Loss :{loss},\\nAccuracy of DNN 2 : {accuracy}'.format(loss= model2_loss,accuracy=model2_accuracy))"
   ]
  },
  {
   "cell_type": "code",
   "execution_count": 41,
   "metadata": {
    "scrolled": true
   },
   "outputs": [
    {
     "data": {
      "image/png": "[encoded data removed]",
      "text/plain": [
       "<Figure size 640x480 with 1 Axes>"
      ]
     },
     "metadata": {},
     "output_type": "display_data"
    }
   ],
   "source": [
    "import matplotlib.pyplot as plt\n",
    "\n",
    "acc = hist.history['accuracy']\n",
    "val_acc = hist.history['val_accuracy']\n",
    "loss = hist.history['loss']\n",
    "val_loss = hist.history['val_loss']\n",
    "\n",
    "epochs = range(1, len(acc) + 1)\n",
    "\n",
    "# \"bo\" is for \"blue dot\"\n",
    "plt.plot(epochs, loss, 'bo', label='Training loss')\n",
    "# b is for \"solid blue line\"\n",
    "plt.plot(epochs, val_loss, 'b', label='Validation loss')\n",
    "plt.title('Training and validation loss')\n",
    "plt.xlabel('Epochs')\n",
    "plt.ylabel('Loss')\n",
    "plt.legend()\n",
    "\n",
    "plt.show()"
   ]
  },
  {
   "cell_type": "code",
   "execution_count": 42,
   "metadata": {
    "scrolled": true
   },
   "outputs": [
    {
     "data": {
      "image/png": "[encoded data removed]",
      "text/plain": [
       "<Figure size 640x480 with 1 Axes>"
      ]
     },
     "metadata": {},
     "output_type": "display_data"
    }
   ],
   "source": [
    "acc_values = hist.history['accuracy']\n",
    "val_acc_values = hist.history['val_accuracy']\n",
    "\n",
    "plt.plot(epochs, acc, 'bo', label='Training acc')\n",
    "plt.plot(epochs, val_acc, 'b', label='Validation acc')\n",
    "plt.title('Training and validation accuracy')\n",
    "plt.xlabel('Epochs')\n",
    "plt.ylabel('Loss')\n",
    "plt.legend()\n",
    "\n",
    "plt.show()"
   ]
  },
  {
   "cell_type": "code",
   "execution_count": 47,
   "metadata": {},
   "outputs": [],
   "source": [
    "import numpy as np"
   ]
  },
  {
   "cell_type": "markdown",
   "metadata": {},
   "source": [
    "<h2>Predicting the Model</h2>"
   ]
  },
  {
   "cell_type": "code",
   "execution_count": 48,
   "metadata": {},
   "outputs": [
    {
     "name": "stdout",
     "output_type": "stream",
     "text": [
      "\u001b[1m9789/9789\u001b[0m \u001b[32m━━━━━━━━━━━━━━━━━━━━\u001b[0m\u001b[37m\u001b[0m \u001b[1m5s\u001b[0m 486us/step\n"
     ]
    }
   ],
   "source": [
    "model2_pred = np.argmax(model2.predict(scaled_X_test), axis=-1)"
   ]
  },
  {
   "cell_type": "code",
   "execution_count": 49,
   "metadata": {},
   "outputs": [],
   "source": [
    "transpose_model2=numpy.transpose([enc_y_test, model2_pred])"
   ]
  },
  {
   "cell_type": "code",
   "execution_count": 50,
   "metadata": {},
   "outputs": [
    {
     "data": {
      "text/plain": [
       "array([[2, 2],\n",
       "       [2, 2],\n",
       "       [2, 2],\n",
       "       ...,\n",
       "       [2, 2],\n",
       "       [2, 2],\n",
       "       [2, 2]])"
      ]
     },
     "execution_count": 50,
     "metadata": {},
     "output_type": "execute_result"
    }
   ],
   "source": [
    "transpose_model2"
   ]
  },
  {
   "cell_type": "markdown",
   "metadata": {},
   "source": [
    "<h2>Generating the Results </h2>"
   ]
  },
  {
   "cell_type": "code",
   "execution_count": 51,
   "metadata": {},
   "outputs": [
    {
     "data": {
      "text/plain": [
       "array(['impersonation', 'injection', 'normal'], dtype=object)"
      ]
     },
     "execution_count": 51,
     "metadata": {},
     "output_type": "execute_result"
    }
   ],
   "source": [
    "encoder.classes_"
   ]
  },
  {
   "cell_type": "code",
   "execution_count": 52,
   "metadata": {},
   "outputs": [],
   "source": [
    "target_names=[encoder.classes_[0], encoder.classes_[1], encoder.classes_[2]]"
   ]
  },
  {
   "cell_type": "code",
   "execution_count": 53,
   "metadata": {},
   "outputs": [],
   "source": [
    "result_model2= classification_report(enc_y_test, model2_pred, target_names= target_names)"
   ]
  },
  {
   "cell_type": "code",
   "execution_count": 54,
   "metadata": {},
   "outputs": [
    {
     "name": "stdout",
     "output_type": "stream",
     "text": [
      "               precision    recall  f1-score   support\n",
      "\n",
      "impersonation       0.03      0.00      0.00     18606\n",
      "    injection       0.39      0.99      0.57     16682\n",
      "       normal       1.00      0.97      0.99    277960\n",
      "\n",
      "     accuracy                           0.92    313248\n",
      "    macro avg       0.48      0.66      0.52    313248\n",
      " weighted avg       0.91      0.92      0.91    313248\n",
      "\n"
     ]
    }
   ],
   "source": [
    "print(result_model2)"
   ]
  },
  {
   "cell_type": "markdown",
   "metadata": {},
   "source": [
    "<h2>Reshaping to the array to 3-Dimensional array  </h2>"
   ]
  },
  {
   "cell_type": "code",
   "execution_count": 55,
   "metadata": {},
   "outputs": [
    {
     "data": {
      "text/plain": [
       "(885744, 1, 76)"
      ]
     },
     "execution_count": 55,
     "metadata": {},
     "output_type": "execute_result"
    }
   ],
   "source": [
    "#Reshape input to be [samples, time steps, features] to work with LSTM\n",
    "\n",
    "third_X_train = numpy.reshape(scaled_X_train, (scaled_X_train.shape[0], 1, scaled_X_train.shape[1]))\n",
    "third_X_train.shape"
   ]
  },
  {
   "cell_type": "code",
   "execution_count": 56,
   "metadata": {},
   "outputs": [
    {
     "data": {
      "text/plain": [
       "(313248, 1, 76)"
      ]
     },
     "execution_count": 56,
     "metadata": {},
     "output_type": "execute_result"
    }
   ],
   "source": [
    "third_X_test = numpy.reshape(scaled_X_test,(scaled_X_test.shape[0], 1, scaled_X_test.shape[1]))\n",
    "third_X_test.shape"
   ]
  },
  {
   "cell_type": "markdown",
   "metadata": {},
   "source": [
    "<h2>Using Recurrent Neural Network with LSTM </h2>"
   ]
  },
  {
   "cell_type": "code",
   "execution_count": 57,
   "metadata": {},
   "outputs": [
    {
     "name": "stderr",
     "output_type": "stream",
     "text": [
      "/home/sriramchinmay/miniforge3/envs/workstation/lib/python3.11/site-packages/keras/src/layers/rnn/rnn.py:199: UserWarning: Do not pass an `input_shape`/`input_dim` argument to a layer. When using Sequential models, prefer using an `Input(shape)` object as the first layer in the model instead.\n",
      "  super().__init__(**kwargs)\n"
     ]
    },
    {
     "data": {
      "text/html": [
       "<pre style=\"white-space:pre;overflow-x:auto;line-height:normal;font-family:Menlo,'DejaVu Sans Mono',consolas,'Courier New',monospace\"><span style=\"font-weight: bold\">Model: \"sequential_1\"</span>\n",
       "</pre>\n"
      ],
      "text/plain": [
       "\u001b[1mModel: \"sequential_1\"\u001b[0m\n"
      ]
     },
     "metadata": {},
     "output_type": "display_data"
    },
    {
     "data": {
      "text/html": [
       "<pre style=\"white-space:pre;overflow-x:auto;line-height:normal;font-family:Menlo,'DejaVu Sans Mono',consolas,'Courier New',monospace\">┏━━━━━━━━━━━━━━━━━━━━━━━━━━━━━━━━━┳━━━━━━━━━━━━━━━━━━━━━━━━┳━━━━━━━━━━━━━━━┓\n",
       "┃<span style=\"font-weight: bold\"> Layer (type)                    </span>┃<span style=\"font-weight: bold\"> Output Shape           </span>┃<span style=\"font-weight: bold\">       Param # </span>┃\n",
       "┡━━━━━━━━━━━━━━━━━━━━━━━━━━━━━━━━━╇━━━━━━━━━━━━━━━━━━━━━━━━╇━━━━━━━━━━━━━━━┩\n",
       "│ lstm (<span style=\"color: #0087ff; text-decoration-color: #0087ff\">LSTM</span>)                     │ (<span style=\"color: #00d7ff; text-decoration-color: #00d7ff\">None</span>, <span style=\"color: #00af00; text-decoration-color: #00af00\">1</span>, <span style=\"color: #00af00; text-decoration-color: #00af00\">10</span>)          │         <span style=\"color: #00af00; text-decoration-color: #00af00\">3,480</span> │\n",
       "├─────────────────────────────────┼────────────────────────┼───────────────┤\n",
       "│ dropout_2 (<span style=\"color: #0087ff; text-decoration-color: #0087ff\">Dropout</span>)             │ (<span style=\"color: #00d7ff; text-decoration-color: #00d7ff\">None</span>, <span style=\"color: #00af00; text-decoration-color: #00af00\">1</span>, <span style=\"color: #00af00; text-decoration-color: #00af00\">10</span>)          │             <span style=\"color: #00af00; text-decoration-color: #00af00\">0</span> │\n",
       "├─────────────────────────────────┼────────────────────────┼───────────────┤\n",
       "│ lstm_1 (<span style=\"color: #0087ff; text-decoration-color: #0087ff\">LSTM</span>)                   │ (<span style=\"color: #00d7ff; text-decoration-color: #00d7ff\">None</span>, <span style=\"color: #00af00; text-decoration-color: #00af00\">1</span>, <span style=\"color: #00af00; text-decoration-color: #00af00\">20</span>)          │         <span style=\"color: #00af00; text-decoration-color: #00af00\">2,480</span> │\n",
       "├─────────────────────────────────┼────────────────────────┼───────────────┤\n",
       "│ dropout_3 (<span style=\"color: #0087ff; text-decoration-color: #0087ff\">Dropout</span>)             │ (<span style=\"color: #00d7ff; text-decoration-color: #00d7ff\">None</span>, <span style=\"color: #00af00; text-decoration-color: #00af00\">1</span>, <span style=\"color: #00af00; text-decoration-color: #00af00\">20</span>)          │             <span style=\"color: #00af00; text-decoration-color: #00af00\">0</span> │\n",
       "├─────────────────────────────────┼────────────────────────┼───────────────┤\n",
       "│ flatten (<span style=\"color: #0087ff; text-decoration-color: #0087ff\">Flatten</span>)               │ (<span style=\"color: #00d7ff; text-decoration-color: #00d7ff\">None</span>, <span style=\"color: #00af00; text-decoration-color: #00af00\">20</span>)             │             <span style=\"color: #00af00; text-decoration-color: #00af00\">0</span> │\n",
       "├─────────────────────────────────┼────────────────────────┼───────────────┤\n",
       "│ dense_3 (<span style=\"color: #0087ff; text-decoration-color: #0087ff\">Dense</span>)                 │ (<span style=\"color: #00d7ff; text-decoration-color: #00d7ff\">None</span>, <span style=\"color: #00af00; text-decoration-color: #00af00\">3</span>)              │            <span style=\"color: #00af00; text-decoration-color: #00af00\">63</span> │\n",
       "└─────────────────────────────────┴────────────────────────┴───────────────┘\n",
       "</pre>\n"
      ],
      "text/plain": [
       "┏━━━━━━━━━━━━━━━━━━━━━━━━━━━━━━━━━┳━━━━━━━━━━━━━━━━━━━━━━━━┳━━━━━━━━━━━━━━━┓\n",
       "┃\u001b[1m \u001b[0m\u001b[1mLayer (type)                   \u001b[0m\u001b[1m \u001b[0m┃\u001b[1m \u001b[0m\u001b[1mOutput Shape          \u001b[0m\u001b[1m \u001b[0m┃\u001b[1m \u001b[0m\u001b[1m      Param #\u001b[0m\u001b[1m \u001b[0m┃\n",
       "┡━━━━━━━━━━━━━━━━━━━━━━━━━━━━━━━━━╇━━━━━━━━━━━━━━━━━━━━━━━━╇━━━━━━━━━━━━━━━┩\n",
       "│ lstm (\u001b[38;5;33mLSTM\u001b[0m)                     │ (\u001b[38;5;45mNone\u001b[0m, \u001b[38;5;34m1\u001b[0m, \u001b[38;5;34m10\u001b[0m)          │         \u001b[38;5;34m3,480\u001b[0m │\n",
       "├─────────────────────────────────┼────────────────────────┼───────────────┤\n",
       "│ dropout_2 (\u001b[38;5;33mDropout\u001b[0m)             │ (\u001b[38;5;45mNone\u001b[0m, \u001b[38;5;34m1\u001b[0m, \u001b[38;5;34m10\u001b[0m)          │             \u001b[38;5;34m0\u001b[0m │\n",
       "├─────────────────────────────────┼────────────────────────┼───────────────┤\n",
       "│ lstm_1 (\u001b[38;5;33mLSTM\u001b[0m)                   │ (\u001b[38;5;45mNone\u001b[0m, \u001b[38;5;34m1\u001b[0m, \u001b[38;5;34m20\u001b[0m)          │         \u001b[38;5;34m2,480\u001b[0m │\n",
       "├─────────────────────────────────┼────────────────────────┼───────────────┤\n",
       "│ dropout_3 (\u001b[38;5;33mDropout\u001b[0m)             │ (\u001b[38;5;45mNone\u001b[0m, \u001b[38;5;34m1\u001b[0m, \u001b[38;5;34m20\u001b[0m)          │             \u001b[38;5;34m0\u001b[0m │\n",
       "├─────────────────────────────────┼────────────────────────┼───────────────┤\n",
       "│ flatten (\u001b[38;5;33mFlatten\u001b[0m)               │ (\u001b[38;5;45mNone\u001b[0m, \u001b[38;5;34m20\u001b[0m)             │             \u001b[38;5;34m0\u001b[0m │\n",
       "├─────────────────────────────────┼────────────────────────┼───────────────┤\n",
       "│ dense_3 (\u001b[38;5;33mDense\u001b[0m)                 │ (\u001b[38;5;45mNone\u001b[0m, \u001b[38;5;34m3\u001b[0m)              │            \u001b[38;5;34m63\u001b[0m │\n",
       "└─────────────────────────────────┴────────────────────────┴───────────────┘\n"
      ]
     },
     "metadata": {},
     "output_type": "display_data"
    },
    {
     "data": {
      "text/html": [
       "<pre style=\"white-space:pre;overflow-x:auto;line-height:normal;font-family:Menlo,'DejaVu Sans Mono',consolas,'Courier New',monospace\"><span style=\"font-weight: bold\"> Total params: </span><span style=\"color: #00af00; text-decoration-color: #00af00\">6,023</span> (23.53 KB)\n",
       "</pre>\n"
      ],
      "text/plain": [
       "\u001b[1m Total params: \u001b[0m\u001b[38;5;34m6,023\u001b[0m (23.53 KB)\n"
      ]
     },
     "metadata": {},
     "output_type": "display_data"
    },
    {
     "data": {
      "text/html": [
       "<pre style=\"white-space:pre;overflow-x:auto;line-height:normal;font-family:Menlo,'DejaVu Sans Mono',consolas,'Courier New',monospace\"><span style=\"font-weight: bold\"> Trainable params: </span><span style=\"color: #00af00; text-decoration-color: #00af00\">6,023</span> (23.53 KB)\n",
       "</pre>\n"
      ],
      "text/plain": [
       "\u001b[1m Trainable params: \u001b[0m\u001b[38;5;34m6,023\u001b[0m (23.53 KB)\n"
      ]
     },
     "metadata": {},
     "output_type": "display_data"
    },
    {
     "data": {
      "text/html": [
       "<pre style=\"white-space:pre;overflow-x:auto;line-height:normal;font-family:Menlo,'DejaVu Sans Mono',consolas,'Courier New',monospace\"><span style=\"font-weight: bold\"> Non-trainable params: </span><span style=\"color: #00af00; text-decoration-color: #00af00\">0</span> (0.00 B)\n",
       "</pre>\n"
      ],
      "text/plain": [
       "\u001b[1m Non-trainable params: \u001b[0m\u001b[38;5;34m0\u001b[0m (0.00 B)\n"
      ]
     },
     "metadata": {},
     "output_type": "display_data"
    }
   ],
   "source": [
    "#Using multiple layer of LSTM\n",
    "multi_lstm_model=Sequential()\n",
    "\n",
    "multi_lstm_model.add(LSTM(10,input_shape=(1, third_X_train.shape[2]),\n",
    "                    return_sequences=True, activation='relu'))\n",
    "multi_lstm_model.add(Dropout(0.3))\n",
    "\n",
    "multi_lstm_model.add(LSTM(20, return_sequences=True, activation='relu'))\n",
    "multi_lstm_model.add(Dropout(0.3))\n",
    "\n",
    "multi_lstm_model.add(Flatten())\n",
    "multi_lstm_model.add(Dense(3, activation='softmax'))\n",
    "\n",
    "multi_lstm_model.compile(loss='categorical_crossentropy', optimizer='adam', metrics=['accuracy'])\n",
    "\n",
    "multi_lstm_model.summary()"
   ]
  },
  {
   "cell_type": "markdown",
   "metadata": {},
   "source": [
    "<h2>Training and evaluating the model with more layers </h2>"
   ]
  },
  {
   "cell_type": "code",
   "execution_count": 60,
   "metadata": {},
   "outputs": [
    {
     "name": "stdout",
     "output_type": "stream",
     "text": [
      "Epoch 1/5\n",
      "\u001b[1m5882/5882\u001b[0m \u001b[32m━━━━━━━━━━━━━━━━━━━━\u001b[0m\u001b[37m\u001b[0m \u001b[1m12s\u001b[0m 2ms/step - accuracy: 0.9980 - loss: 0.0071 - val_accuracy: 0.9804 - val_loss: 0.0892\n",
      "Epoch 2/5\n",
      "\u001b[1m5882/5882\u001b[0m \u001b[32m━━━━━━━━━━━━━━━━━━━━\u001b[0m\u001b[37m\u001b[0m \u001b[1m12s\u001b[0m 2ms/step - accuracy: 0.9983 - loss: 0.0066 - val_accuracy: 0.9807 - val_loss: 0.0859\n",
      "Epoch 3/5\n",
      "\u001b[1m5882/5882\u001b[0m \u001b[32m━━━━━━━━━━━━━━━━━━━━\u001b[0m\u001b[37m\u001b[0m \u001b[1m12s\u001b[0m 2ms/step - accuracy: 0.9983 - loss: 0.0069 - val_accuracy: 0.9807 - val_loss: 0.0653\n",
      "Epoch 4/5\n",
      "\u001b[1m5882/5882\u001b[0m \u001b[32m━━━━━━━━━━━━━━━━━━━━\u001b[0m\u001b[37m\u001b[0m \u001b[1m10s\u001b[0m 2ms/step - accuracy: 0.9982 - loss: 0.0067 - val_accuracy: 0.9809 - val_loss: 0.0637\n",
      "Epoch 5/5\n",
      "\u001b[1m5882/5882\u001b[0m \u001b[32m━━━━━━━━━━━━━━━━━━━━\u001b[0m\u001b[37m\u001b[0m \u001b[1m10s\u001b[0m 2ms/step - accuracy: 0.9982 - loss: 0.0069 - val_accuracy: 0.9807 - val_loss: 0.0817\n",
      "Restoring model weights from the end of the best epoch: 4.\n"
     ]
    }
   ],
   "source": [
    "history_lstm1=multi_lstm_model.fit(third_X_train, cat_y_train,batch_size=128,\n",
    "               epochs=5, callbacks=[earlystop],validation_split=0.15, verbose=1)"
   ]
  },
  {
   "cell_type": "code",
   "execution_count": 59,
   "metadata": {},
   "outputs": [
    {
     "name": "stdout",
     "output_type": "stream",
     "text": [
      "\u001b[1m27680/27680\u001b[0m \u001b[32m━━━━━━━━━━━━━━━━━━━━\u001b[0m\u001b[37m\u001b[0m \u001b[1m25s\u001b[0m 914us/step - accuracy: 0.9997 - loss: 0.0017\n"
     ]
    },
    {
     "data": {
      "text/plain": [
       "[0.011268779635429382, 0.9966559410095215]"
      ]
     },
     "execution_count": 59,
     "metadata": {},
     "output_type": "execute_result"
    }
   ],
   "source": [
    "multi_lstm_model.evaluate(third_X_train, cat_y_train)"
   ]
  },
  {
   "cell_type": "code",
   "execution_count": 52,
   "metadata": {},
   "outputs": [
    {
     "name": "stdout",
     "output_type": "stream",
     "text": [
      "313248/313248 [==============================] - 6s 19us/step\n"
     ]
    }
   ],
   "source": [
    "lstm1_loss, lstm1_accuracy = multi_lstm_model.evaluate(third_X_test, cat_y_test)"
   ]
  },
  {
   "cell_type": "code",
   "execution_count": 53,
   "metadata": {},
   "outputs": [
    {
     "name": "stdout",
     "output_type": "stream",
     "text": [
      "Loss :1.8630824964943937,\n",
      "Accuracy of LSTM Model : 0.8670318722724915\n"
     ]
    }
   ],
   "source": [
    "print('Loss :{loss},\\nAccuracy of LSTM Model : {accuracy}'.format(loss=lstm1_loss,accuracy=lstm1_accuracy))"
   ]
  },
  {
   "cell_type": "markdown",
   "metadata": {},
   "source": [
    "<h2> Plotting the Training/Validation Loss and Accuracy of more LSTM layers</h2>"
   ]
  },
  {
   "cell_type": "code",
   "execution_count": 54,
   "metadata": {},
   "outputs": [
    {
     "data": {
      "image/png": "[encoded data removed]",
      "text/plain": [
       "<Figure size 432x288 with 1 Axes>"
      ]
     },
     "metadata": {
      "needs_background": "light"
     },
     "output_type": "display_data"
    }
   ],
   "source": [
    "import matplotlib.pyplot as plt\n",
    "\n",
    "acc = history_lstm1.history['accuracy']\n",
    "val_acc = history_lstm1.history['val_accuracy']\n",
    "loss = history_lstm1.history['loss']\n",
    "val_loss = history_lstm1.history['val_loss']\n",
    "\n",
    "epochs = range(1, len(acc) + 1)\n",
    "\n",
    "# \"bo\" is for \"blue dot\"\n",
    "plt.plot(epochs, loss, 'bo', label='Training loss')\n",
    "# b is for \"solid blue line\"\n",
    "plt.plot(epochs, val_loss,  'b', label='Validation loss')\n",
    "plt.title('Training and validation loss')\n",
    "plt.xlabel('Epochs')\n",
    "plt.ylabel('Loss')\n",
    "plt.legend()\n",
    "\n",
    "plt.show()"
   ]
  },
  {
   "cell_type": "code",
   "execution_count": 55,
   "metadata": {
    "scrolled": true
   },
   "outputs": [
    {
     "data": {
      "image/png": "[encoded data removed]",
      "text/plain": [
       "<Figure size 432x288 with 1 Axes>"
      ]
     },
     "metadata": {
      "needs_background": "light"
     },
     "output_type": "display_data"
    }
   ],
   "source": [
    "acc_values = history_lstm1.history['accuracy']\n",
    "val_acc_values = history_lstm1.history['val_accuracy']\n",
    "\n",
    "plt.plot(epochs, acc, 'bo', label='Training acc')\n",
    "plt.plot(epochs, val_acc, 'b', label='Validation acc')\n",
    "plt.title('Training and validation accuracy')\n",
    "plt.xlabel('Epochs')\n",
    "plt.ylabel('Loss')\n",
    "plt.legend()\n",
    "\n",
    "plt.show()"
   ]
  },
  {
   "cell_type": "markdown",
   "metadata": {},
   "source": [
    "<h2>Predicting the Model and Generating the Outcome </h2>"
   ]
  },
  {
   "cell_type": "code",
   "execution_count": 56,
   "metadata": {},
   "outputs": [],
   "source": [
    "multi_lstm_preds=multi_lstm_model.predict_classes(third_X_test)"
   ]
  },
  {
   "cell_type": "code",
   "execution_count": 57,
   "metadata": {},
   "outputs": [],
   "source": [
    "transpose=numpy.transpose([enc_y_test, multi_lstm_preds])\n"
   ]
  },
  {
   "cell_type": "code",
   "execution_count": 58,
   "metadata": {},
   "outputs": [
    {
     "data": {
      "text/plain": [
       "array([[2, 2],\n",
       "       [2, 2],\n",
       "       [2, 2],\n",
       "       ...,\n",
       "       [2, 2],\n",
       "       [2, 2],\n",
       "       [2, 2]], dtype=int64)"
      ]
     },
     "execution_count": 58,
     "metadata": {},
     "output_type": "execute_result"
    }
   ],
   "source": [
    "transpose"
   ]
  },
  {
   "cell_type": "code",
   "execution_count": 59,
   "metadata": {},
   "outputs": [
    {
     "name": "stdout",
     "output_type": "stream",
     "text": [
      "At line 0 The model predicted : normal , When the Actual is : normal\n",
      "At line 1 The model predicted : normal , When the Actual is : normal\n",
      "At line 2 The model predicted : normal , When the Actual is : normal\n",
      "At line 3 The model predicted : normal , When the Actual is : normal\n",
      "At line 4 The model predicted : normal , When the Actual is : normal\n",
      "At line 5 The model predicted : normal , When the Actual is : normal\n",
      "At line 6 The model predicted : normal , When the Actual is : normal\n",
      "At line 7 The model predicted : normal , When the Actual is : normal\n",
      "At line 8 The model predicted : normal , When the Actual is : normal\n",
      "At line 9 The model predicted : normal , When the Actual is : normal\n",
      "At line 10 The model predicted : normal , When the Actual is : normal\n",
      "At line 11 The model predicted : normal , When the Actual is : normal\n",
      "At line 12 The model predicted : normal , When the Actual is : normal\n",
      "At line 13 The model predicted : normal , When the Actual is : normal\n",
      "At line 14 The model predicted : normal , When the Actual is : normal\n",
      "At line 15 The model predicted : normal , When the Actual is : normal\n",
      "At line 16 The model predicted : normal , When the Actual is : normal\n",
      "At line 17 The model predicted : normal , When the Actual is : normal\n",
      "At line 18 The model predicted : normal , When the Actual is : normal\n",
      "At line 19 The model predicted : normal , When the Actual is : normal\n",
      "At line 20 The model predicted : normal , When the Actual is : normal\n",
      "At line 21 The model predicted : normal , When the Actual is : normal\n",
      "At line 22 The model predicted : normal , When the Actual is : normal\n",
      "At line 23 The model predicted : normal , When the Actual is : normal\n",
      "At line 24 The model predicted : normal , When the Actual is : normal\n",
      "At line 25 The model predicted : normal , When the Actual is : normal\n",
      "At line 26 The model predicted : normal , When the Actual is : normal\n",
      "At line 27 The model predicted : normal , When the Actual is : normal\n",
      "At line 28 The model predicted : normal , When the Actual is : normal\n",
      "At line 29 The model predicted : normal , When the Actual is : normal\n",
      "At line 30 The model predicted : normal , When the Actual is : normal\n",
      "At line 31 The model predicted : normal , When the Actual is : normal\n",
      "At line 32 The model predicted : normal , When the Actual is : normal\n",
      "At line 33 The model predicted : normal , When the Actual is : normal\n",
      "At line 34 The model predicted : normal , When the Actual is : normal\n",
      "At line 35 The model predicted : normal , When the Actual is : normal\n",
      "At line 36 The model predicted : normal , When the Actual is : normal\n",
      "At line 37 The model predicted : normal , When the Actual is : normal\n",
      "At line 38 The model predicted : normal , When the Actual is : normal\n",
      "At line 39 The model predicted : normal , When the Actual is : normal\n",
      "At line 40 The model predicted : normal , When the Actual is : normal\n",
      "At line 41 The model predicted : normal , When the Actual is : normal\n",
      "At line 42 The model predicted : normal , When the Actual is : normal\n",
      "At line 43 The model predicted : normal , When the Actual is : normal\n",
      "At line 44 The model predicted : normal , When the Actual is : normal\n",
      "At line 45 The model predicted : normal , When the Actual is : normal\n",
      "At line 46 The model predicted : normal , When the Actual is : normal\n",
      "At line 47 The model predicted : normal , When the Actual is : normal\n",
      "At line 48 The model predicted : normal , When the Actual is : normal\n",
      "At line 49 The model predicted : normal , When the Actual is : normal\n",
      "At line 50 The model predicted : normal , When the Actual is : normal\n",
      "At line 51 The model predicted : normal , When the Actual is : normal\n",
      "At line 52 The model predicted : normal , When the Actual is : normal\n",
      "At line 53 The model predicted : normal , When the Actual is : normal\n",
      "At line 54 The model predicted : normal , When the Actual is : normal\n",
      "At line 55 The model predicted : normal , When the Actual is : normal\n",
      "At line 56 The model predicted : normal , When the Actual is : normal\n",
      "At line 57 The model predicted : normal , When the Actual is : normal\n",
      "At line 58 The model predicted : normal , When the Actual is : normal\n",
      "At line 59 The model predicted : normal , When the Actual is : normal\n",
      "At line 60 The model predicted : normal , When the Actual is : normal\n",
      "At line 61 The model predicted : normal , When the Actual is : normal\n",
      "At line 62 The model predicted : normal , When the Actual is : normal\n",
      "At line 63 The model predicted : normal , When the Actual is : normal\n",
      "At line 64 The model predicted : normal , When the Actual is : normal\n",
      "At line 65 The model predicted : normal , When the Actual is : normal\n",
      "At line 66 The model predicted : normal , When the Actual is : normal\n",
      "At line 67 The model predicted : normal , When the Actual is : normal\n",
      "At line 68 The model predicted : normal , When the Actual is : normal\n",
      "At line 69 The model predicted : normal , When the Actual is : normal\n",
      "At line 70 The model predicted : normal , When the Actual is : normal\n",
      "At line 71 The model predicted : normal , When the Actual is : normal\n",
      "At line 72 The model predicted : normal , When the Actual is : normal\n",
      "At line 73 The model predicted : normal , When the Actual is : normal\n",
      "At line 74 The model predicted : normal , When the Actual is : normal\n",
      "At line 75 The model predicted : normal , When the Actual is : normal\n",
      "At line 76 The model predicted : normal , When the Actual is : normal\n",
      "At line 77 The model predicted : normal , When the Actual is : normal\n",
      "At line 78 The model predicted : normal , When the Actual is : normal\n",
      "At line 79 The model predicted : normal , When the Actual is : normal\n",
      "At line 80 The model predicted : normal , When the Actual is : normal\n",
      "At line 81 The model predicted : normal , When the Actual is : normal\n",
      "At line 82 The model predicted : normal , When the Actual is : normal\n",
      "At line 83 The model predicted : normal , When the Actual is : normal\n",
      "At line 84 The model predicted : normal , When the Actual is : normal\n",
      "At line 85 The model predicted : normal , When the Actual is : normal\n",
      "At line 86 The model predicted : normal , When the Actual is : normal\n",
      "At line 87 The model predicted : normal , When the Actual is : normal\n",
      "At line 88 The model predicted : normal , When the Actual is : normal\n",
      "At line 89 The model predicted : normal , When the Actual is : normal\n",
      "At line 90 The model predicted : normal , When the Actual is : normal\n",
      "At line 91 The model predicted : normal , When the Actual is : normal\n",
      "At line 92 The model predicted : normal , When the Actual is : normal\n",
      "At line 93 The model predicted : normal , When the Actual is : normal\n",
      "At line 94 The model predicted : normal , When the Actual is : normal\n",
      "At line 95 The model predicted : normal , When the Actual is : normal\n",
      "At line 96 The model predicted : normal , When the Actual is : normal\n",
      "At line 97 The model predicted : normal , When the Actual is : normal\n",
      "At line 98 The model predicted : normal , When the Actual is : normal\n",
      "At line 99 The model predicted : normal , When the Actual is : normal\n"
     ]
    }
   ],
   "source": [
    "#From the below code we can observe the predicted and actual label\n",
    "#come\n",
    "outcome_range=100\n",
    "for i in range(outcome_range):\n",
    "    prediction = encoder.classes_[transpose[i,1]]\n",
    "    actual = encoder.classes_[transpose[i,0]]\n",
    "    print( \"At line\",i, \"The model predicted :\", prediction, \", When the Actual is :\", actual)"
   ]
  },
  {
   "cell_type": "markdown",
   "metadata": {},
   "source": [
    "<h2>Generating Precision/Recall and F1-score Report </h2>"
   ]
  },
  {
   "cell_type": "code",
   "execution_count": 60,
   "metadata": {},
   "outputs": [
    {
     "data": {
      "text/plain": [
       "array(['impersonation', 'injection', 'normal'], dtype=object)"
      ]
     },
     "execution_count": 60,
     "metadata": {},
     "output_type": "execute_result"
    }
   ],
   "source": [
    "encoder.classes_"
   ]
  },
  {
   "cell_type": "code",
   "execution_count": 61,
   "metadata": {},
   "outputs": [],
   "source": [
    "target_names=[encoder.classes_[0], encoder.classes_[1], encoder.classes_[2]]"
   ]
  },
  {
   "cell_type": "code",
   "execution_count": 62,
   "metadata": {},
   "outputs": [],
   "source": [
    "result_lstm1 = classification_report(enc_y_test, multi_lstm_preds, target_names=target_names)"
   ]
  },
  {
   "cell_type": "code",
   "execution_count": 63,
   "metadata": {
    "scrolled": true
   },
   "outputs": [
    {
     "name": "stdout",
     "output_type": "stream",
     "text": [
      "               precision    recall  f1-score   support\n",
      "\n",
      "impersonation       0.04      0.00      0.00     18606\n",
      "    injection       0.01      0.01      0.01     16682\n",
      "       normal       0.91      0.98      0.94    277960\n",
      "\n",
      "     accuracy                           0.87    313248\n",
      "    macro avg       0.32      0.33      0.32    313248\n",
      " weighted avg       0.81      0.87      0.84    313248\n",
      "\n"
     ]
    }
   ],
   "source": [
    "print(result_lstm1)\n",
    "#USING LSTM With more layer and neuron, we may get better result"
   ]
  },
  {
   "cell_type": "code",
   "execution_count": 64,
   "metadata": {},
   "outputs": [
    {
     "name": "stdout",
     "output_type": "stream",
     "text": [
      "               precision    recall  f1-score   support\n",
      "\n",
      "impersonation       0.00      0.00      0.00     18606\n",
      "    injection       0.35      0.90      0.50     16682\n",
      "       normal       0.99      0.96      0.98    277960\n",
      "\n",
      "     accuracy                           0.90    313248\n",
      "    macro avg       0.45      0.62      0.49    313248\n",
      " weighted avg       0.90      0.90      0.89    313248\n",
      "\n"
     ]
    }
   ],
   "source": [
    "print(result_model2)"
   ]
  },
  {
   "cell_type": "code",
   "execution_count": null,
   "metadata": {},
   "outputs": [],
   "source": []
  }
 ],
 "metadata": {
  "kernelspec": {
   "display_name": "workstation",
   "language": "python",
   "name": "python3"
  },
  "language_info": {
   "codemirror_mode": {
    "name": "ipython",
    "version": 3
   },
   "file_extension": ".py",
   "mimetype": "text/x-python",
   "name": "python",
   "nbconvert_exporter": "python",
   "pygments_lexer": "ipython3",
   "version": "3.11.13"
  }
 },
 "nbformat": 4,
 "nbformat_minor": 4
}
